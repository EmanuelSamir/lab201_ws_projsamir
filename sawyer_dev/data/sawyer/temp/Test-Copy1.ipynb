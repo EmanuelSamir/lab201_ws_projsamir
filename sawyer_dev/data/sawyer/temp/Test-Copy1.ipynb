{
 "cells": [
  {
   "cell_type": "markdown",
   "metadata": {},
   "source": [
    "# Prueba para joint 1 con movimiento sinusoidal\n",
    "## Coding\n",
    "### Importando librerías\n"
   ]
  },
  {
   "cell_type": "code",
   "execution_count": 2,
   "metadata": {},
   "outputs": [
    {
     "name": "stderr",
     "output_type": "stream",
     "text": [
      "/usr/local/lib/python2.7/dist-packages/h5py/__init__.py:36: FutureWarning: Conversion of the second argument of issubdtype from `float` to `np.floating` is deprecated. In future, it will be treated as `np.float64 == np.dtype(float).type`.\n",
      "  from ._conv import register_converters as _register_converters\n",
      "Using TensorFlow backend.\n"
     ]
    }
   ],
   "source": [
    "#importing all libraries\n",
    "import pandas as pd\n",
    "import matplotlib.pyplot as plt\n",
    "import matplotlib.patches as mpatches\n",
    "import numpy as np\n",
    "from keras.models import Sequential\n",
    "from keras.layers import Dense, Dropout, Activation, Flatten, LeakyReLU"
   ]
  },
  {
   "cell_type": "markdown",
   "metadata": {},
   "source": [
    "## Plotting data"
   ]
  },
  {
   "cell_type": "markdown",
   "metadata": {},
   "source": [
    "### Muestra de data para una ventana de 3000 datos"
   ]
  },
  {
   "cell_type": "code",
   "execution_count": 3,
   "metadata": {},
   "outputs": [
    {
     "data": {
      "text/plain": [
       "<matplotlib.legend.Legend at 0x7f7da6fe2a90>"
      ]
     },
     "execution_count": 3,
     "metadata": {},
     "output_type": "execute_result"
    },
    {
     "data": {
      "image/png": "[encoded data removed]",
      "text/plain": [
       "<Figure size 432x288 with 1 Axes>"
      ]
     },
     "metadata": {},
     "output_type": "display_data"
    },
    {
     "data": {
      "image/png": "[encoded data removed]",
      "text/plain": [
       "<Figure size 432x288 with 1 Axes>"
      ]
     },
     "metadata": {},
     "output_type": "display_data"
    }
   ],
   "source": [
    "df = pd.read_csv('torque_test.csv')\n",
    "#df_eval = pd.read_csv('evaluation_data.csv')\n",
    "df_val = pd.read_csv('validation_data_6.csv')\n",
    "fig1 = plt.figure()\n",
    "df.j4.plot()\n",
    "df.ed4.plot(); plt.legend(loc='best')\n",
    "fig2 = plt.figure(); df.e4[1:2000].plot(); plt.legend(loc='best')"
   ]
  },
  {
   "cell_type": "code",
   "execution_count": 7,
   "metadata": {},
   "outputs": [
    {
     "data": {
      "text/html": [
       "<div>\n",
       "<style scoped>\n",
       "    .dataframe tbody tr th:only-of-type {\n",
       "        vertical-align: middle;\n",
       "    }\n",
       "\n",
       "    .dataframe tbody tr th {\n",
       "        vertical-align: top;\n",
       "    }\n",
       "\n",
       "    .dataframe thead th {\n",
       "        text-align: right;\n",
       "    }\n",
       "</style>\n",
       "<table border=\"1\" class=\"dataframe\">\n",
       "  <thead>\n",
       "    <tr style=\"text-align: right;\">\n",
       "      <th></th>\n",
       "      <th>Unnamed: 0</th>\n",
       "      <th>j1</th>\n",
       "      <th>j2</th>\n",
       "      <th>j3</th>\n",
       "      <th>j4</th>\n",
       "      <th>j5</th>\n",
       "      <th>j6</th>\n",
       "      <th>j7</th>\n",
       "      <th>jd1</th>\n",
       "      <th>jd2</th>\n",
       "      <th>...</th>\n",
       "      <th>jd5</th>\n",
       "      <th>jd6</th>\n",
       "      <th>jd7</th>\n",
       "      <th>e1</th>\n",
       "      <th>e2</th>\n",
       "      <th>e3</th>\n",
       "      <th>e4</th>\n",
       "      <th>e5</th>\n",
       "      <th>e6</th>\n",
       "      <th>e7</th>\n",
       "    </tr>\n",
       "  </thead>\n",
       "  <tbody>\n",
       "    <tr>\n",
       "      <th>0</th>\n",
       "      <td>0</td>\n",
       "      <td>0.000000</td>\n",
       "      <td>0.000000</td>\n",
       "      <td>0.000000</td>\n",
       "      <td>0.000000</td>\n",
       "      <td>0.000000</td>\n",
       "      <td>0.000000</td>\n",
       "      <td>0.000000</td>\n",
       "      <td>0.000000</td>\n",
       "      <td>0.000000</td>\n",
       "      <td>...</td>\n",
       "      <td>0.000000</td>\n",
       "      <td>0.000000</td>\n",
       "      <td>0.000000</td>\n",
       "      <td>0.000</td>\n",
       "      <td>0.000</td>\n",
       "      <td>0.000</td>\n",
       "      <td>0.000</td>\n",
       "      <td>0.000</td>\n",
       "      <td>0.000</td>\n",
       "      <td>0.000</td>\n",
       "    </tr>\n",
       "    <tr>\n",
       "      <th>1</th>\n",
       "      <td>1</td>\n",
       "      <td>-0.002104</td>\n",
       "      <td>-0.001510</td>\n",
       "      <td>0.000021</td>\n",
       "      <td>-0.003979</td>\n",
       "      <td>0.003341</td>\n",
       "      <td>-0.004884</td>\n",
       "      <td>-0.001673</td>\n",
       "      <td>-0.891148</td>\n",
       "      <td>-0.277998</td>\n",
       "      <td>...</td>\n",
       "      <td>0.378086</td>\n",
       "      <td>-0.404293</td>\n",
       "      <td>1.026457</td>\n",
       "      <td>0.104</td>\n",
       "      <td>-44.324</td>\n",
       "      <td>-4.556</td>\n",
       "      <td>-13.812</td>\n",
       "      <td>2.324</td>\n",
       "      <td>-0.700</td>\n",
       "      <td>-0.024</td>\n",
       "    </tr>\n",
       "    <tr>\n",
       "      <th>2</th>\n",
       "      <td>2</td>\n",
       "      <td>-0.002104</td>\n",
       "      <td>-0.001510</td>\n",
       "      <td>0.000021</td>\n",
       "      <td>-0.003979</td>\n",
       "      <td>0.003341</td>\n",
       "      <td>-0.004884</td>\n",
       "      <td>-0.001673</td>\n",
       "      <td>-0.891148</td>\n",
       "      <td>-0.277998</td>\n",
       "      <td>...</td>\n",
       "      <td>0.378086</td>\n",
       "      <td>-0.404293</td>\n",
       "      <td>1.026457</td>\n",
       "      <td>0.156</td>\n",
       "      <td>-44.268</td>\n",
       "      <td>-4.600</td>\n",
       "      <td>-13.972</td>\n",
       "      <td>2.296</td>\n",
       "      <td>-0.708</td>\n",
       "      <td>0.000</td>\n",
       "    </tr>\n",
       "    <tr>\n",
       "      <th>3</th>\n",
       "      <td>3</td>\n",
       "      <td>-0.002104</td>\n",
       "      <td>-0.001510</td>\n",
       "      <td>0.000021</td>\n",
       "      <td>-0.003979</td>\n",
       "      <td>0.003341</td>\n",
       "      <td>-0.004884</td>\n",
       "      <td>-0.001673</td>\n",
       "      <td>-0.891148</td>\n",
       "      <td>-0.277998</td>\n",
       "      <td>...</td>\n",
       "      <td>0.378086</td>\n",
       "      <td>-0.404293</td>\n",
       "      <td>1.026457</td>\n",
       "      <td>0.052</td>\n",
       "      <td>-44.324</td>\n",
       "      <td>-4.576</td>\n",
       "      <td>-13.856</td>\n",
       "      <td>2.276</td>\n",
       "      <td>-0.708</td>\n",
       "      <td>-0.012</td>\n",
       "    </tr>\n",
       "    <tr>\n",
       "      <th>4</th>\n",
       "      <td>4</td>\n",
       "      <td>-0.002309</td>\n",
       "      <td>-0.001510</td>\n",
       "      <td>0.000166</td>\n",
       "      <td>-0.004269</td>\n",
       "      <td>0.002928</td>\n",
       "      <td>-0.004884</td>\n",
       "      <td>-0.001467</td>\n",
       "      <td>-0.891148</td>\n",
       "      <td>-0.277998</td>\n",
       "      <td>...</td>\n",
       "      <td>0.378086</td>\n",
       "      <td>-0.404293</td>\n",
       "      <td>1.026457</td>\n",
       "      <td>-3.880</td>\n",
       "      <td>-45.456</td>\n",
       "      <td>-4.392</td>\n",
       "      <td>-15.388</td>\n",
       "      <td>2.420</td>\n",
       "      <td>-0.720</td>\n",
       "      <td>0.056</td>\n",
       "    </tr>\n",
       "    <tr>\n",
       "      <th>5</th>\n",
       "      <td>5</td>\n",
       "      <td>-0.002721</td>\n",
       "      <td>-0.001407</td>\n",
       "      <td>0.000743</td>\n",
       "      <td>-0.006010</td>\n",
       "      <td>0.001288</td>\n",
       "      <td>-0.004058</td>\n",
       "      <td>0.001813</td>\n",
       "      <td>-0.891148</td>\n",
       "      <td>-0.277998</td>\n",
       "      <td>...</td>\n",
       "      <td>0.378086</td>\n",
       "      <td>-0.404293</td>\n",
       "      <td>1.026457</td>\n",
       "      <td>-7.600</td>\n",
       "      <td>-48.752</td>\n",
       "      <td>-4.440</td>\n",
       "      <td>-18.384</td>\n",
       "      <td>3.232</td>\n",
       "      <td>-1.228</td>\n",
       "      <td>0.044</td>\n",
       "    </tr>\n",
       "    <tr>\n",
       "      <th>6</th>\n",
       "      <td>6</td>\n",
       "      <td>-0.003241</td>\n",
       "      <td>-0.001304</td>\n",
       "      <td>0.002034</td>\n",
       "      <td>-0.007742</td>\n",
       "      <td>0.001081</td>\n",
       "      <td>-0.004884</td>\n",
       "      <td>0.006951</td>\n",
       "      <td>-0.891148</td>\n",
       "      <td>-0.277998</td>\n",
       "      <td>...</td>\n",
       "      <td>0.378086</td>\n",
       "      <td>-0.404293</td>\n",
       "      <td>1.026457</td>\n",
       "      <td>-11.800</td>\n",
       "      <td>-52.800</td>\n",
       "      <td>-4.160</td>\n",
       "      <td>-19.596</td>\n",
       "      <td>3.604</td>\n",
       "      <td>-1.704</td>\n",
       "      <td>0.108</td>\n",
       "    </tr>\n",
       "    <tr>\n",
       "      <th>7</th>\n",
       "      <td>7</td>\n",
       "      <td>-0.004271</td>\n",
       "      <td>-0.001304</td>\n",
       "      <td>0.003910</td>\n",
       "      <td>-0.009493</td>\n",
       "      <td>0.001895</td>\n",
       "      <td>-0.007350</td>\n",
       "      <td>0.013923</td>\n",
       "      <td>-0.891148</td>\n",
       "      <td>-0.277998</td>\n",
       "      <td>...</td>\n",
       "      <td>0.378086</td>\n",
       "      <td>-0.404293</td>\n",
       "      <td>1.026457</td>\n",
       "      <td>-16.004</td>\n",
       "      <td>-55.120</td>\n",
       "      <td>-5.548</td>\n",
       "      <td>-20.788</td>\n",
       "      <td>3.312</td>\n",
       "      <td>-1.288</td>\n",
       "      <td>0.116</td>\n",
       "    </tr>\n",
       "    <tr>\n",
       "      <th>8</th>\n",
       "      <td>8</td>\n",
       "      <td>-0.005506</td>\n",
       "      <td>-0.001510</td>\n",
       "      <td>0.005787</td>\n",
       "      <td>-0.011956</td>\n",
       "      <td>0.001895</td>\n",
       "      <td>-0.009415</td>\n",
       "      <td>0.022341</td>\n",
       "      <td>-0.891148</td>\n",
       "      <td>-0.277998</td>\n",
       "      <td>...</td>\n",
       "      <td>0.378086</td>\n",
       "      <td>-0.404293</td>\n",
       "      <td>1.026457</td>\n",
       "      <td>-20.364</td>\n",
       "      <td>-56.740</td>\n",
       "      <td>-6.244</td>\n",
       "      <td>-20.284</td>\n",
       "      <td>3.376</td>\n",
       "      <td>-1.220</td>\n",
       "      <td>0.136</td>\n",
       "    </tr>\n",
       "    <tr>\n",
       "      <th>9</th>\n",
       "      <td>9</td>\n",
       "      <td>-0.007364</td>\n",
       "      <td>-0.002333</td>\n",
       "      <td>0.007944</td>\n",
       "      <td>-0.013978</td>\n",
       "      <td>0.002722</td>\n",
       "      <td>-0.011881</td>\n",
       "      <td>0.032605</td>\n",
       "      <td>-0.891148</td>\n",
       "      <td>-0.277998</td>\n",
       "      <td>...</td>\n",
       "      <td>0.378086</td>\n",
       "      <td>-0.404293</td>\n",
       "      <td>1.026457</td>\n",
       "      <td>-24.508</td>\n",
       "      <td>-57.388</td>\n",
       "      <td>-5.988</td>\n",
       "      <td>-21.128</td>\n",
       "      <td>3.468</td>\n",
       "      <td>-1.344</td>\n",
       "      <td>-0.012</td>\n",
       "    </tr>\n",
       "    <tr>\n",
       "      <th>10</th>\n",
       "      <td>10</td>\n",
       "      <td>-0.009841</td>\n",
       "      <td>-0.003362</td>\n",
       "      <td>0.010398</td>\n",
       "      <td>-0.016297</td>\n",
       "      <td>0.003341</td>\n",
       "      <td>-0.014773</td>\n",
       "      <td>0.042456</td>\n",
       "      <td>-0.891148</td>\n",
       "      <td>-0.277998</td>\n",
       "      <td>...</td>\n",
       "      <td>0.378086</td>\n",
       "      <td>-0.404293</td>\n",
       "      <td>1.026457</td>\n",
       "      <td>-27.488</td>\n",
       "      <td>-56.364</td>\n",
       "      <td>-5.712</td>\n",
       "      <td>-22.480</td>\n",
       "      <td>3.544</td>\n",
       "      <td>-1.412</td>\n",
       "      <td>0.024</td>\n",
       "    </tr>\n",
       "    <tr>\n",
       "      <th>11</th>\n",
       "      <td>11</td>\n",
       "      <td>-0.012928</td>\n",
       "      <td>-0.004494</td>\n",
       "      <td>0.012844</td>\n",
       "      <td>-0.019193</td>\n",
       "      <td>0.004787</td>\n",
       "      <td>-0.018686</td>\n",
       "      <td>0.050668</td>\n",
       "      <td>-0.891148</td>\n",
       "      <td>-0.277998</td>\n",
       "      <td>...</td>\n",
       "      <td>0.378086</td>\n",
       "      <td>-0.404293</td>\n",
       "      <td>1.026457</td>\n",
       "      <td>-29.080</td>\n",
       "      <td>-55.768</td>\n",
       "      <td>-5.340</td>\n",
       "      <td>-21.404</td>\n",
       "      <td>3.760</td>\n",
       "      <td>-1.432</td>\n",
       "      <td>0.056</td>\n",
       "    </tr>\n",
       "    <tr>\n",
       "      <th>12</th>\n",
       "      <td>12</td>\n",
       "      <td>-0.016748</td>\n",
       "      <td>-0.005941</td>\n",
       "      <td>0.016164</td>\n",
       "      <td>-0.022090</td>\n",
       "      <td>0.007460</td>\n",
       "      <td>-0.023011</td>\n",
       "      <td>0.058466</td>\n",
       "      <td>-0.891148</td>\n",
       "      <td>-0.277998</td>\n",
       "      <td>...</td>\n",
       "      <td>0.378086</td>\n",
       "      <td>-0.404293</td>\n",
       "      <td>1.026457</td>\n",
       "      <td>-29.296</td>\n",
       "      <td>-55.176</td>\n",
       "      <td>-5.712</td>\n",
       "      <td>-20.788</td>\n",
       "      <td>3.372</td>\n",
       "      <td>-1.052</td>\n",
       "      <td>0.068</td>\n",
       "    </tr>\n",
       "    <tr>\n",
       "      <th>13</th>\n",
       "      <td>13</td>\n",
       "      <td>-0.021283</td>\n",
       "      <td>-0.007382</td>\n",
       "      <td>0.018609</td>\n",
       "      <td>-0.025708</td>\n",
       "      <td>0.009938</td>\n",
       "      <td>-0.026936</td>\n",
       "      <td>0.065864</td>\n",
       "      <td>-0.891148</td>\n",
       "      <td>-0.277998</td>\n",
       "      <td>...</td>\n",
       "      <td>0.378086</td>\n",
       "      <td>-0.404293</td>\n",
       "      <td>1.026457</td>\n",
       "      <td>-30.092</td>\n",
       "      <td>-54.636</td>\n",
       "      <td>-5.920</td>\n",
       "      <td>-19.644</td>\n",
       "      <td>3.004</td>\n",
       "      <td>-0.884</td>\n",
       "      <td>0.036</td>\n",
       "    </tr>\n",
       "    <tr>\n",
       "      <th>14</th>\n",
       "      <td>14</td>\n",
       "      <td>-0.026435</td>\n",
       "      <td>-0.009234</td>\n",
       "      <td>0.021344</td>\n",
       "      <td>-0.029326</td>\n",
       "      <td>0.012417</td>\n",
       "      <td>-0.030435</td>\n",
       "      <td>0.072849</td>\n",
       "      <td>-0.891148</td>\n",
       "      <td>-0.277998</td>\n",
       "      <td>...</td>\n",
       "      <td>0.378086</td>\n",
       "      <td>-0.404293</td>\n",
       "      <td>1.026457</td>\n",
       "      <td>-29.456</td>\n",
       "      <td>-53.988</td>\n",
       "      <td>-5.504</td>\n",
       "      <td>-18.112</td>\n",
       "      <td>3.228</td>\n",
       "      <td>-0.960</td>\n",
       "      <td>0.000</td>\n",
       "    </tr>\n",
       "    <tr>\n",
       "      <th>15</th>\n",
       "      <td>15</td>\n",
       "      <td>-0.032107</td>\n",
       "      <td>-0.011498</td>\n",
       "      <td>0.024087</td>\n",
       "      <td>-0.032665</td>\n",
       "      <td>0.015297</td>\n",
       "      <td>-0.033739</td>\n",
       "      <td>0.078801</td>\n",
       "      <td>-0.891148</td>\n",
       "      <td>-0.277998</td>\n",
       "      <td>...</td>\n",
       "      <td>0.378086</td>\n",
       "      <td>-0.404293</td>\n",
       "      <td>1.026457</td>\n",
       "      <td>-25.680</td>\n",
       "      <td>-52.208</td>\n",
       "      <td>-5.432</td>\n",
       "      <td>-19.024</td>\n",
       "      <td>3.084</td>\n",
       "      <td>-0.996</td>\n",
       "      <td>-0.052</td>\n",
       "    </tr>\n",
       "    <tr>\n",
       "      <th>16</th>\n",
       "      <td>16</td>\n",
       "      <td>-0.038295</td>\n",
       "      <td>-0.013453</td>\n",
       "      <td>0.026532</td>\n",
       "      <td>-0.037447</td>\n",
       "      <td>0.017969</td>\n",
       "      <td>-0.036205</td>\n",
       "      <td>0.083526</td>\n",
       "      <td>-0.891148</td>\n",
       "      <td>-0.277998</td>\n",
       "      <td>...</td>\n",
       "      <td>0.378086</td>\n",
       "      <td>-0.404293</td>\n",
       "      <td>1.026457</td>\n",
       "      <td>-20.416</td>\n",
       "      <td>-51.612</td>\n",
       "      <td>-4.716</td>\n",
       "      <td>-18.544</td>\n",
       "      <td>3.324</td>\n",
       "      <td>-1.208</td>\n",
       "      <td>0.044</td>\n",
       "    </tr>\n",
       "    <tr>\n",
       "      <th>17</th>\n",
       "      <td>17</td>\n",
       "      <td>-0.044997</td>\n",
       "      <td>-0.015621</td>\n",
       "      <td>0.029564</td>\n",
       "      <td>-0.042076</td>\n",
       "      <td>0.022101</td>\n",
       "      <td>-0.039511</td>\n",
       "      <td>0.087632</td>\n",
       "      <td>-0.891148</td>\n",
       "      <td>-0.277998</td>\n",
       "      <td>...</td>\n",
       "      <td>0.378086</td>\n",
       "      <td>-0.404293</td>\n",
       "      <td>1.026457</td>\n",
       "      <td>-15.472</td>\n",
       "      <td>-51.344</td>\n",
       "      <td>-4.600</td>\n",
       "      <td>-17.584</td>\n",
       "      <td>3.144</td>\n",
       "      <td>-1.116</td>\n",
       "      <td>0.076</td>\n",
       "    </tr>\n",
       "    <tr>\n",
       "      <th>18</th>\n",
       "      <td>18</td>\n",
       "      <td>-0.052110</td>\n",
       "      <td>-0.017782</td>\n",
       "      <td>0.032587</td>\n",
       "      <td>-0.046858</td>\n",
       "      <td>0.026839</td>\n",
       "      <td>-0.042597</td>\n",
       "      <td>0.091531</td>\n",
       "      <td>-0.891148</td>\n",
       "      <td>-0.277998</td>\n",
       "      <td>...</td>\n",
       "      <td>0.378086</td>\n",
       "      <td>-0.404293</td>\n",
       "      <td>1.026457</td>\n",
       "      <td>-12.068</td>\n",
       "      <td>-50.532</td>\n",
       "      <td>-5.804</td>\n",
       "      <td>-16.876</td>\n",
       "      <td>2.672</td>\n",
       "      <td>-0.708</td>\n",
       "      <td>0.084</td>\n",
       "    </tr>\n",
       "    <tr>\n",
       "      <th>19</th>\n",
       "      <td>19</td>\n",
       "      <td>-0.059738</td>\n",
       "      <td>-0.020149</td>\n",
       "      <td>0.035032</td>\n",
       "      <td>-0.051785</td>\n",
       "      <td>0.030957</td>\n",
       "      <td>-0.044869</td>\n",
       "      <td>0.095430</td>\n",
       "      <td>-0.891148</td>\n",
       "      <td>-0.277998</td>\n",
       "      <td>...</td>\n",
       "      <td>0.378086</td>\n",
       "      <td>-0.404293</td>\n",
       "      <td>1.026457</td>\n",
       "      <td>-11.800</td>\n",
       "      <td>-49.508</td>\n",
       "      <td>-5.756</td>\n",
       "      <td>-15.116</td>\n",
       "      <td>2.584</td>\n",
       "      <td>-0.656</td>\n",
       "      <td>0.172</td>\n",
       "    </tr>\n",
       "    <tr>\n",
       "      <th>20</th>\n",
       "      <td>20</td>\n",
       "      <td>-0.067675</td>\n",
       "      <td>-0.023037</td>\n",
       "      <td>0.037486</td>\n",
       "      <td>-0.055846</td>\n",
       "      <td>0.035282</td>\n",
       "      <td>-0.046935</td>\n",
       "      <td>0.099949</td>\n",
       "      <td>-0.891148</td>\n",
       "      <td>-0.277998</td>\n",
       "      <td>...</td>\n",
       "      <td>0.378086</td>\n",
       "      <td>-0.404293</td>\n",
       "      <td>1.026457</td>\n",
       "      <td>-13.292</td>\n",
       "      <td>-48.048</td>\n",
       "      <td>-5.548</td>\n",
       "      <td>-15.000</td>\n",
       "      <td>2.584</td>\n",
       "      <td>-0.604</td>\n",
       "      <td>0.200</td>\n",
       "    </tr>\n",
       "    <tr>\n",
       "      <th>21</th>\n",
       "      <td>21</td>\n",
       "      <td>-0.075722</td>\n",
       "      <td>-0.025918</td>\n",
       "      <td>0.039788</td>\n",
       "      <td>-0.060331</td>\n",
       "      <td>0.038988</td>\n",
       "      <td>-0.048161</td>\n",
       "      <td>0.104868</td>\n",
       "      <td>-0.891148</td>\n",
       "      <td>-0.277998</td>\n",
       "      <td>...</td>\n",
       "      <td>0.378086</td>\n",
       "      <td>-0.404293</td>\n",
       "      <td>1.026457</td>\n",
       "      <td>-9.196</td>\n",
       "      <td>-46.268</td>\n",
       "      <td>-5.548</td>\n",
       "      <td>-16.144</td>\n",
       "      <td>2.848</td>\n",
       "      <td>-0.824</td>\n",
       "      <td>0.188</td>\n",
       "    </tr>\n",
       "    <tr>\n",
       "      <th>22</th>\n",
       "      <td>22</td>\n",
       "      <td>-0.083651</td>\n",
       "      <td>-0.028491</td>\n",
       "      <td>0.042098</td>\n",
       "      <td>-0.065402</td>\n",
       "      <td>0.042706</td>\n",
       "      <td>-0.049813</td>\n",
       "      <td>0.110613</td>\n",
       "      <td>-0.891148</td>\n",
       "      <td>-0.277998</td>\n",
       "      <td>...</td>\n",
       "      <td>0.378086</td>\n",
       "      <td>-0.404293</td>\n",
       "      <td>1.026457</td>\n",
       "      <td>-2.708</td>\n",
       "      <td>-45.348</td>\n",
       "      <td>-4.784</td>\n",
       "      <td>-15.460</td>\n",
       "      <td>3.168</td>\n",
       "      <td>-1.136</td>\n",
       "      <td>0.104</td>\n",
       "    </tr>\n",
       "    <tr>\n",
       "      <th>23</th>\n",
       "      <td>23</td>\n",
       "      <td>-0.091897</td>\n",
       "      <td>-0.031063</td>\n",
       "      <td>0.044687</td>\n",
       "      <td>-0.070762</td>\n",
       "      <td>0.047651</td>\n",
       "      <td>-0.052293</td>\n",
       "      <td>0.117185</td>\n",
       "      <td>-0.891148</td>\n",
       "      <td>-0.277998</td>\n",
       "      <td>...</td>\n",
       "      <td>0.378086</td>\n",
       "      <td>-0.404293</td>\n",
       "      <td>1.026457</td>\n",
       "      <td>-0.796</td>\n",
       "      <td>-45.024</td>\n",
       "      <td>-5.456</td>\n",
       "      <td>-15.664</td>\n",
       "      <td>2.700</td>\n",
       "      <td>-0.780</td>\n",
       "      <td>0.052</td>\n",
       "    </tr>\n",
       "    <tr>\n",
       "      <th>24</th>\n",
       "      <td>24</td>\n",
       "      <td>-0.100252</td>\n",
       "      <td>-0.033334</td>\n",
       "      <td>0.046988</td>\n",
       "      <td>-0.076708</td>\n",
       "      <td>0.052183</td>\n",
       "      <td>-0.054552</td>\n",
       "      <td>0.123757</td>\n",
       "      <td>-0.891148</td>\n",
       "      <td>-0.277998</td>\n",
       "      <td>...</td>\n",
       "      <td>0.378086</td>\n",
       "      <td>-0.404293</td>\n",
       "      <td>1.026457</td>\n",
       "      <td>-2.124</td>\n",
       "      <td>-45.348</td>\n",
       "      <td>-5.848</td>\n",
       "      <td>-14.084</td>\n",
       "      <td>2.232</td>\n",
       "      <td>-0.604</td>\n",
       "      <td>0.024</td>\n",
       "    </tr>\n",
       "    <tr>\n",
       "      <th>25</th>\n",
       "      <td>25</td>\n",
       "      <td>-0.108601</td>\n",
       "      <td>-0.036112</td>\n",
       "      <td>0.049442</td>\n",
       "      <td>-0.081337</td>\n",
       "      <td>0.057335</td>\n",
       "      <td>-0.057650</td>\n",
       "      <td>0.130729</td>\n",
       "      <td>-0.891148</td>\n",
       "      <td>-0.277998</td>\n",
       "      <td>...</td>\n",
       "      <td>0.378086</td>\n",
       "      <td>-0.404293</td>\n",
       "      <td>1.026457</td>\n",
       "      <td>-0.316</td>\n",
       "      <td>-44.432</td>\n",
       "      <td>-5.872</td>\n",
       "      <td>-12.692</td>\n",
       "      <td>1.808</td>\n",
       "      <td>-0.180</td>\n",
       "      <td>0.068</td>\n",
       "    </tr>\n",
       "    <tr>\n",
       "      <th>26</th>\n",
       "      <td>26</td>\n",
       "      <td>-0.116641</td>\n",
       "      <td>-0.038994</td>\n",
       "      <td>0.051600</td>\n",
       "      <td>-0.085542</td>\n",
       "      <td>0.061246</td>\n",
       "      <td>-0.059717</td>\n",
       "      <td>0.137094</td>\n",
       "      <td>-0.891148</td>\n",
       "      <td>-0.277998</td>\n",
       "      <td>...</td>\n",
       "      <td>0.378086</td>\n",
       "      <td>-0.404293</td>\n",
       "      <td>1.026457</td>\n",
       "      <td>5.848</td>\n",
       "      <td>-41.624</td>\n",
       "      <td>-5.780</td>\n",
       "      <td>-13.444</td>\n",
       "      <td>1.620</td>\n",
       "      <td>-0.016</td>\n",
       "      <td>0.068</td>\n",
       "    </tr>\n",
       "    <tr>\n",
       "      <th>27</th>\n",
       "      <td>27</td>\n",
       "      <td>-0.124886</td>\n",
       "      <td>-0.041676</td>\n",
       "      <td>0.053477</td>\n",
       "      <td>-0.090026</td>\n",
       "      <td>0.064332</td>\n",
       "      <td>-0.061356</td>\n",
       "      <td>0.143459</td>\n",
       "      <td>-0.891148</td>\n",
       "      <td>-0.277998</td>\n",
       "      <td>...</td>\n",
       "      <td>0.378086</td>\n",
       "      <td>-0.404293</td>\n",
       "      <td>1.026457</td>\n",
       "      <td>7.068</td>\n",
       "      <td>-39.952</td>\n",
       "      <td>-4.416</td>\n",
       "      <td>-12.736</td>\n",
       "      <td>1.920</td>\n",
       "      <td>-0.504</td>\n",
       "      <td>0.096</td>\n",
       "    </tr>\n",
       "    <tr>\n",
       "      <th>28</th>\n",
       "      <td>28</td>\n",
       "      <td>-0.133138</td>\n",
       "      <td>-0.044455</td>\n",
       "      <td>0.055769</td>\n",
       "      <td>-0.093934</td>\n",
       "      <td>0.067418</td>\n",
       "      <td>-0.064455</td>\n",
       "      <td>0.150030</td>\n",
       "      <td>-0.891148</td>\n",
       "      <td>-0.277998</td>\n",
       "      <td>...</td>\n",
       "      <td>0.378086</td>\n",
       "      <td>-0.404293</td>\n",
       "      <td>1.026457</td>\n",
       "      <td>5.740</td>\n",
       "      <td>-39.196</td>\n",
       "      <td>-3.932</td>\n",
       "      <td>-13.056</td>\n",
       "      <td>1.976</td>\n",
       "      <td>-0.260</td>\n",
       "      <td>0.076</td>\n",
       "    </tr>\n",
       "    <tr>\n",
       "      <th>29</th>\n",
       "      <td>29</td>\n",
       "      <td>-0.140869</td>\n",
       "      <td>-0.046616</td>\n",
       "      <td>0.057789</td>\n",
       "      <td>-0.098870</td>\n",
       "      <td>0.070930</td>\n",
       "      <td>-0.066727</td>\n",
       "      <td>0.157015</td>\n",
       "      <td>-0.891148</td>\n",
       "      <td>-0.277998</td>\n",
       "      <td>...</td>\n",
       "      <td>0.378086</td>\n",
       "      <td>-0.404293</td>\n",
       "      <td>1.026457</td>\n",
       "      <td>6.380</td>\n",
       "      <td>-38.924</td>\n",
       "      <td>-3.976</td>\n",
       "      <td>-13.104</td>\n",
       "      <td>1.956</td>\n",
       "      <td>-0.384</td>\n",
       "      <td>0.012</td>\n",
       "    </tr>\n",
       "    <tr>\n",
       "      <th>...</th>\n",
       "      <td>...</td>\n",
       "      <td>...</td>\n",
       "      <td>...</td>\n",
       "      <td>...</td>\n",
       "      <td>...</td>\n",
       "      <td>...</td>\n",
       "      <td>...</td>\n",
       "      <td>...</td>\n",
       "      <td>...</td>\n",
       "      <td>...</td>\n",
       "      <td>...</td>\n",
       "      <td>...</td>\n",
       "      <td>...</td>\n",
       "      <td>...</td>\n",
       "      <td>...</td>\n",
       "      <td>...</td>\n",
       "      <td>...</td>\n",
       "      <td>...</td>\n",
       "      <td>...</td>\n",
       "      <td>...</td>\n",
       "      <td>...</td>\n",
       "    </tr>\n",
       "    <tr>\n",
       "      <th>1971</th>\n",
       "      <td>1971</td>\n",
       "      <td>0.063057</td>\n",
       "      <td>-0.552644</td>\n",
       "      <td>0.783002</td>\n",
       "      <td>0.181298</td>\n",
       "      <td>0.606127</td>\n",
       "      <td>-0.217308</td>\n",
       "      <td>-0.240797</td>\n",
       "      <td>0.212423</td>\n",
       "      <td>-1.020052</td>\n",
       "      <td>...</td>\n",
       "      <td>0.676657</td>\n",
       "      <td>-0.689858</td>\n",
       "      <td>0.136043</td>\n",
       "      <td>-2.020</td>\n",
       "      <td>-41.084</td>\n",
       "      <td>-3.932</td>\n",
       "      <td>-9.764</td>\n",
       "      <td>0.332</td>\n",
       "      <td>0.596</td>\n",
       "      <td>0.220</td>\n",
       "    </tr>\n",
       "    <tr>\n",
       "      <th>1972</th>\n",
       "      <td>1972</td>\n",
       "      <td>0.064188</td>\n",
       "      <td>-0.555113</td>\n",
       "      <td>0.784726</td>\n",
       "      <td>0.175793</td>\n",
       "      <td>0.606334</td>\n",
       "      <td>-0.219166</td>\n",
       "      <td>-0.238551</td>\n",
       "      <td>0.212423</td>\n",
       "      <td>-1.020052</td>\n",
       "      <td>...</td>\n",
       "      <td>0.676657</td>\n",
       "      <td>-0.689858</td>\n",
       "      <td>0.136043</td>\n",
       "      <td>-1.964</td>\n",
       "      <td>-41.464</td>\n",
       "      <td>-4.044</td>\n",
       "      <td>-10.108</td>\n",
       "      <td>0.276</td>\n",
       "      <td>0.468</td>\n",
       "      <td>0.148</td>\n",
       "    </tr>\n",
       "    <tr>\n",
       "      <th>1973</th>\n",
       "      <td>1973</td>\n",
       "      <td>0.065218</td>\n",
       "      <td>-0.557583</td>\n",
       "      <td>0.786305</td>\n",
       "      <td>0.170280</td>\n",
       "      <td>0.606540</td>\n",
       "      <td>-0.221633</td>\n",
       "      <td>-0.236291</td>\n",
       "      <td>0.212423</td>\n",
       "      <td>-1.020052</td>\n",
       "      <td>...</td>\n",
       "      <td>0.676657</td>\n",
       "      <td>-0.689858</td>\n",
       "      <td>0.136043</td>\n",
       "      <td>-2.020</td>\n",
       "      <td>-41.300</td>\n",
       "      <td>-4.000</td>\n",
       "      <td>-10.472</td>\n",
       "      <td>0.200</td>\n",
       "      <td>0.364</td>\n",
       "      <td>0.120</td>\n",
       "    </tr>\n",
       "    <tr>\n",
       "      <th>1974</th>\n",
       "      <td>1974</td>\n",
       "      <td>0.066150</td>\n",
       "      <td>-0.560053</td>\n",
       "      <td>0.787884</td>\n",
       "      <td>0.164631</td>\n",
       "      <td>0.606334</td>\n",
       "      <td>-0.224318</td>\n",
       "      <td>-0.234031</td>\n",
       "      <td>0.212423</td>\n",
       "      <td>-1.020052</td>\n",
       "      <td>...</td>\n",
       "      <td>0.676657</td>\n",
       "      <td>-0.689858</td>\n",
       "      <td>0.136043</td>\n",
       "      <td>-2.176</td>\n",
       "      <td>-41.140</td>\n",
       "      <td>-4.000</td>\n",
       "      <td>-10.496</td>\n",
       "      <td>0.304</td>\n",
       "      <td>0.664</td>\n",
       "      <td>0.096</td>\n",
       "    </tr>\n",
       "    <tr>\n",
       "      <th>1975</th>\n",
       "      <td>1975</td>\n",
       "      <td>0.067076</td>\n",
       "      <td>-0.562522</td>\n",
       "      <td>0.789453</td>\n",
       "      <td>0.159127</td>\n",
       "      <td>0.606540</td>\n",
       "      <td>-0.226177</td>\n",
       "      <td>-0.231772</td>\n",
       "      <td>0.212423</td>\n",
       "      <td>-1.020052</td>\n",
       "      <td>...</td>\n",
       "      <td>0.676657</td>\n",
       "      <td>-0.689858</td>\n",
       "      <td>0.136043</td>\n",
       "      <td>-2.176</td>\n",
       "      <td>-41.140</td>\n",
       "      <td>-4.024</td>\n",
       "      <td>-10.244</td>\n",
       "      <td>0.168</td>\n",
       "      <td>0.436</td>\n",
       "      <td>0.084</td>\n",
       "    </tr>\n",
       "    <tr>\n",
       "      <th>1976</th>\n",
       "      <td>1976</td>\n",
       "      <td>0.068002</td>\n",
       "      <td>-0.565095</td>\n",
       "      <td>0.790744</td>\n",
       "      <td>0.153623</td>\n",
       "      <td>0.606540</td>\n",
       "      <td>-0.229069</td>\n",
       "      <td>-0.229720</td>\n",
       "      <td>0.212423</td>\n",
       "      <td>-1.020052</td>\n",
       "      <td>...</td>\n",
       "      <td>0.676657</td>\n",
       "      <td>-0.689858</td>\n",
       "      <td>0.136043</td>\n",
       "      <td>-1.964</td>\n",
       "      <td>-40.816</td>\n",
       "      <td>-3.952</td>\n",
       "      <td>-9.876</td>\n",
       "      <td>0.136</td>\n",
       "      <td>0.556</td>\n",
       "      <td>0.104</td>\n",
       "    </tr>\n",
       "    <tr>\n",
       "      <th>1977</th>\n",
       "      <td>1977</td>\n",
       "      <td>0.068723</td>\n",
       "      <td>-0.567674</td>\n",
       "      <td>0.792179</td>\n",
       "      <td>0.148263</td>\n",
       "      <td>0.606747</td>\n",
       "      <td>-0.231342</td>\n",
       "      <td>-0.227666</td>\n",
       "      <td>0.212423</td>\n",
       "      <td>-1.020052</td>\n",
       "      <td>...</td>\n",
       "      <td>0.676657</td>\n",
       "      <td>-0.689858</td>\n",
       "      <td>0.136043</td>\n",
       "      <td>-1.700</td>\n",
       "      <td>-40.652</td>\n",
       "      <td>-4.000</td>\n",
       "      <td>-9.672</td>\n",
       "      <td>0.160</td>\n",
       "      <td>0.644</td>\n",
       "      <td>0.120</td>\n",
       "    </tr>\n",
       "    <tr>\n",
       "      <th>1978</th>\n",
       "      <td>1978</td>\n",
       "      <td>0.069553</td>\n",
       "      <td>-0.570145</td>\n",
       "      <td>0.793469</td>\n",
       "      <td>0.142470</td>\n",
       "      <td>0.606540</td>\n",
       "      <td>-0.233614</td>\n",
       "      <td>-0.226026</td>\n",
       "      <td>0.212423</td>\n",
       "      <td>-1.020052</td>\n",
       "      <td>...</td>\n",
       "      <td>0.676657</td>\n",
       "      <td>-0.689858</td>\n",
       "      <td>0.136043</td>\n",
       "      <td>-1.432</td>\n",
       "      <td>-40.384</td>\n",
       "      <td>-3.860</td>\n",
       "      <td>-9.628</td>\n",
       "      <td>0.156</td>\n",
       "      <td>0.420</td>\n",
       "      <td>0.096</td>\n",
       "    </tr>\n",
       "    <tr>\n",
       "      <th>1979</th>\n",
       "      <td>1979</td>\n",
       "      <td>0.070272</td>\n",
       "      <td>-0.572614</td>\n",
       "      <td>0.794903</td>\n",
       "      <td>0.136821</td>\n",
       "      <td>0.606540</td>\n",
       "      <td>-0.236906</td>\n",
       "      <td>-0.224181</td>\n",
       "      <td>0.212423</td>\n",
       "      <td>-1.020052</td>\n",
       "      <td>...</td>\n",
       "      <td>0.676657</td>\n",
       "      <td>-0.689858</td>\n",
       "      <td>0.136043</td>\n",
       "      <td>-1.328</td>\n",
       "      <td>-40.276</td>\n",
       "      <td>-4.044</td>\n",
       "      <td>-9.260</td>\n",
       "      <td>0.292</td>\n",
       "      <td>0.624</td>\n",
       "      <td>0.104</td>\n",
       "    </tr>\n",
       "    <tr>\n",
       "      <th>1980</th>\n",
       "      <td>1980</td>\n",
       "      <td>0.070993</td>\n",
       "      <td>-0.575187</td>\n",
       "      <td>0.796491</td>\n",
       "      <td>0.131019</td>\n",
       "      <td>0.607160</td>\n",
       "      <td>-0.239592</td>\n",
       "      <td>-0.222334</td>\n",
       "      <td>0.212423</td>\n",
       "      <td>-1.020052</td>\n",
       "      <td>...</td>\n",
       "      <td>0.676657</td>\n",
       "      <td>-0.689858</td>\n",
       "      <td>0.136043</td>\n",
       "      <td>-1.276</td>\n",
       "      <td>-40.816</td>\n",
       "      <td>-4.324</td>\n",
       "      <td>-9.512</td>\n",
       "      <td>0.096</td>\n",
       "      <td>0.760</td>\n",
       "      <td>0.096</td>\n",
       "    </tr>\n",
       "    <tr>\n",
       "      <th>1981</th>\n",
       "      <td>1981</td>\n",
       "      <td>0.071714</td>\n",
       "      <td>-0.577766</td>\n",
       "      <td>0.797927</td>\n",
       "      <td>0.125370</td>\n",
       "      <td>0.607573</td>\n",
       "      <td>-0.242070</td>\n",
       "      <td>-0.220488</td>\n",
       "      <td>0.212423</td>\n",
       "      <td>-1.020052</td>\n",
       "      <td>...</td>\n",
       "      <td>0.676657</td>\n",
       "      <td>-0.689858</td>\n",
       "      <td>0.136043</td>\n",
       "      <td>-1.168</td>\n",
       "      <td>-41.140</td>\n",
       "      <td>-4.392</td>\n",
       "      <td>-9.468</td>\n",
       "      <td>-0.088</td>\n",
       "      <td>0.552</td>\n",
       "      <td>0.096</td>\n",
       "    </tr>\n",
       "    <tr>\n",
       "      <th>1982</th>\n",
       "      <td>1982</td>\n",
       "      <td>0.072331</td>\n",
       "      <td>-0.580235</td>\n",
       "      <td>0.799217</td>\n",
       "      <td>0.119433</td>\n",
       "      <td>0.607160</td>\n",
       "      <td>-0.245376</td>\n",
       "      <td>-0.218835</td>\n",
       "      <td>0.212423</td>\n",
       "      <td>-1.020052</td>\n",
       "      <td>...</td>\n",
       "      <td>0.676657</td>\n",
       "      <td>-0.689858</td>\n",
       "      <td>0.136043</td>\n",
       "      <td>-0.744</td>\n",
       "      <td>-41.032</td>\n",
       "      <td>-3.836</td>\n",
       "      <td>-9.236</td>\n",
       "      <td>0.208</td>\n",
       "      <td>0.664</td>\n",
       "      <td>0.120</td>\n",
       "    </tr>\n",
       "    <tr>\n",
       "      <th>1983</th>\n",
       "      <td>1983</td>\n",
       "      <td>0.072955</td>\n",
       "      <td>-0.582809</td>\n",
       "      <td>0.800643</td>\n",
       "      <td>0.113486</td>\n",
       "      <td>0.607573</td>\n",
       "      <td>-0.247635</td>\n",
       "      <td>-0.216989</td>\n",
       "      <td>0.212423</td>\n",
       "      <td>-1.020052</td>\n",
       "      <td>...</td>\n",
       "      <td>0.676657</td>\n",
       "      <td>-0.689858</td>\n",
       "      <td>0.136043</td>\n",
       "      <td>-0.476</td>\n",
       "      <td>-40.924</td>\n",
       "      <td>-3.720</td>\n",
       "      <td>-9.216</td>\n",
       "      <td>0.224</td>\n",
       "      <td>0.520</td>\n",
       "      <td>0.108</td>\n",
       "    </tr>\n",
       "    <tr>\n",
       "      <th>1984</th>\n",
       "      <td>1984</td>\n",
       "      <td>0.073675</td>\n",
       "      <td>-0.585388</td>\n",
       "      <td>0.802077</td>\n",
       "      <td>0.107404</td>\n",
       "      <td>0.608192</td>\n",
       "      <td>-0.250527</td>\n",
       "      <td>-0.215143</td>\n",
       "      <td>0.212423</td>\n",
       "      <td>-1.020052</td>\n",
       "      <td>...</td>\n",
       "      <td>0.676657</td>\n",
       "      <td>-0.689858</td>\n",
       "      <td>0.136043</td>\n",
       "      <td>-0.264</td>\n",
       "      <td>-40.760</td>\n",
       "      <td>-3.744</td>\n",
       "      <td>-9.444</td>\n",
       "      <td>0.032</td>\n",
       "      <td>0.368</td>\n",
       "      <td>0.104</td>\n",
       "    </tr>\n",
       "    <tr>\n",
       "      <th>1985</th>\n",
       "      <td>1985</td>\n",
       "      <td>0.074293</td>\n",
       "      <td>-0.587960</td>\n",
       "      <td>0.803367</td>\n",
       "      <td>0.101477</td>\n",
       "      <td>0.609006</td>\n",
       "      <td>-0.253832</td>\n",
       "      <td>-0.213297</td>\n",
       "      <td>0.212423</td>\n",
       "      <td>-1.020052</td>\n",
       "      <td>...</td>\n",
       "      <td>0.676657</td>\n",
       "      <td>-0.689858</td>\n",
       "      <td>0.136043</td>\n",
       "      <td>-0.264</td>\n",
       "      <td>-40.492</td>\n",
       "      <td>-3.792</td>\n",
       "      <td>-9.056</td>\n",
       "      <td>-0.016</td>\n",
       "      <td>0.716</td>\n",
       "      <td>0.140</td>\n",
       "    </tr>\n",
       "    <tr>\n",
       "      <th>1986</th>\n",
       "      <td>1986</td>\n",
       "      <td>0.075013</td>\n",
       "      <td>-0.590533</td>\n",
       "      <td>0.804658</td>\n",
       "      <td>0.095395</td>\n",
       "      <td>0.610039</td>\n",
       "      <td>-0.256104</td>\n",
       "      <td>-0.211244</td>\n",
       "      <td>0.212423</td>\n",
       "      <td>-1.020052</td>\n",
       "      <td>...</td>\n",
       "      <td>0.676657</td>\n",
       "      <td>-0.689858</td>\n",
       "      <td>0.136043</td>\n",
       "      <td>-0.156</td>\n",
       "      <td>-40.436</td>\n",
       "      <td>-3.608</td>\n",
       "      <td>-8.664</td>\n",
       "      <td>-0.192</td>\n",
       "      <td>0.556</td>\n",
       "      <td>0.136</td>\n",
       "    </tr>\n",
       "    <tr>\n",
       "      <th>1987</th>\n",
       "      <td>1987</td>\n",
       "      <td>0.075527</td>\n",
       "      <td>-0.593215</td>\n",
       "      <td>0.805804</td>\n",
       "      <td>0.089602</td>\n",
       "      <td>0.610452</td>\n",
       "      <td>-0.258790</td>\n",
       "      <td>-0.209190</td>\n",
       "      <td>0.212423</td>\n",
       "      <td>-1.020052</td>\n",
       "      <td>...</td>\n",
       "      <td>0.676657</td>\n",
       "      <td>-0.689858</td>\n",
       "      <td>0.136043</td>\n",
       "      <td>0.316</td>\n",
       "      <td>-40.060</td>\n",
       "      <td>-3.560</td>\n",
       "      <td>-8.504</td>\n",
       "      <td>-0.200</td>\n",
       "      <td>0.572</td>\n",
       "      <td>0.120</td>\n",
       "    </tr>\n",
       "    <tr>\n",
       "      <th>1988</th>\n",
       "      <td>1988</td>\n",
       "      <td>0.076151</td>\n",
       "      <td>-0.595891</td>\n",
       "      <td>0.806950</td>\n",
       "      <td>0.083809</td>\n",
       "      <td>0.611059</td>\n",
       "      <td>-0.261270</td>\n",
       "      <td>-0.206932</td>\n",
       "      <td>0.212423</td>\n",
       "      <td>-1.020052</td>\n",
       "      <td>...</td>\n",
       "      <td>0.676657</td>\n",
       "      <td>-0.689858</td>\n",
       "      <td>0.136043</td>\n",
       "      <td>0.744</td>\n",
       "      <td>-39.196</td>\n",
       "      <td>-3.284</td>\n",
       "      <td>-8.460</td>\n",
       "      <td>-0.128</td>\n",
       "      <td>0.676</td>\n",
       "      <td>0.148</td>\n",
       "    </tr>\n",
       "    <tr>\n",
       "      <th>1989</th>\n",
       "      <td>1989</td>\n",
       "      <td>0.076769</td>\n",
       "      <td>-0.598566</td>\n",
       "      <td>0.808240</td>\n",
       "      <td>0.077727</td>\n",
       "      <td>0.611886</td>\n",
       "      <td>-0.263115</td>\n",
       "      <td>-0.204685</td>\n",
       "      <td>0.212423</td>\n",
       "      <td>-1.020052</td>\n",
       "      <td>...</td>\n",
       "      <td>0.676657</td>\n",
       "      <td>-0.689858</td>\n",
       "      <td>0.136043</td>\n",
       "      <td>0.956</td>\n",
       "      <td>-39.464</td>\n",
       "      <td>-3.260</td>\n",
       "      <td>-8.184</td>\n",
       "      <td>-0.096</td>\n",
       "      <td>0.388</td>\n",
       "      <td>0.148</td>\n",
       "    </tr>\n",
       "    <tr>\n",
       "      <th>1990</th>\n",
       "      <td>1990</td>\n",
       "      <td>0.077387</td>\n",
       "      <td>-0.601235</td>\n",
       "      <td>0.809386</td>\n",
       "      <td>0.071780</td>\n",
       "      <td>0.612712</td>\n",
       "      <td>-0.266008</td>\n",
       "      <td>-0.202426</td>\n",
       "      <td>0.212423</td>\n",
       "      <td>-1.020052</td>\n",
       "      <td>...</td>\n",
       "      <td>0.676657</td>\n",
       "      <td>-0.689858</td>\n",
       "      <td>0.136043</td>\n",
       "      <td>0.796</td>\n",
       "      <td>-39.680</td>\n",
       "      <td>-3.352</td>\n",
       "      <td>-7.980</td>\n",
       "      <td>-0.096</td>\n",
       "      <td>0.628</td>\n",
       "      <td>0.172</td>\n",
       "    </tr>\n",
       "    <tr>\n",
       "      <th>1991</th>\n",
       "      <td>1991</td>\n",
       "      <td>0.078106</td>\n",
       "      <td>-0.603917</td>\n",
       "      <td>0.810677</td>\n",
       "      <td>0.065698</td>\n",
       "      <td>0.613731</td>\n",
       "      <td>-0.268279</td>\n",
       "      <td>-0.200166</td>\n",
       "      <td>0.212423</td>\n",
       "      <td>-1.020052</td>\n",
       "      <td>...</td>\n",
       "      <td>0.676657</td>\n",
       "      <td>-0.689858</td>\n",
       "      <td>0.136043</td>\n",
       "      <td>0.848</td>\n",
       "      <td>-39.520</td>\n",
       "      <td>-3.352</td>\n",
       "      <td>-8.256</td>\n",
       "      <td>-0.276</td>\n",
       "      <td>0.732</td>\n",
       "      <td>0.200</td>\n",
       "    </tr>\n",
       "    <tr>\n",
       "      <th>1992</th>\n",
       "      <td>1992</td>\n",
       "      <td>0.078827</td>\n",
       "      <td>-0.606490</td>\n",
       "      <td>0.811822</td>\n",
       "      <td>0.059616</td>\n",
       "      <td>0.614558</td>\n",
       "      <td>-0.270552</td>\n",
       "      <td>-0.197700</td>\n",
       "      <td>0.212423</td>\n",
       "      <td>-1.020052</td>\n",
       "      <td>...</td>\n",
       "      <td>0.676657</td>\n",
       "      <td>-0.689858</td>\n",
       "      <td>0.136043</td>\n",
       "      <td>1.008</td>\n",
       "      <td>-39.464</td>\n",
       "      <td>-3.260</td>\n",
       "      <td>-7.728</td>\n",
       "      <td>-0.344</td>\n",
       "      <td>0.556</td>\n",
       "      <td>0.160</td>\n",
       "    </tr>\n",
       "    <tr>\n",
       "      <th>1993</th>\n",
       "      <td>1993</td>\n",
       "      <td>0.079656</td>\n",
       "      <td>-0.609166</td>\n",
       "      <td>0.813113</td>\n",
       "      <td>0.053525</td>\n",
       "      <td>0.614971</td>\n",
       "      <td>-0.273650</td>\n",
       "      <td>-0.195440</td>\n",
       "      <td>0.212423</td>\n",
       "      <td>-1.020052</td>\n",
       "      <td>...</td>\n",
       "      <td>0.676657</td>\n",
       "      <td>-0.689858</td>\n",
       "      <td>0.136043</td>\n",
       "      <td>0.956</td>\n",
       "      <td>-39.304</td>\n",
       "      <td>-3.212</td>\n",
       "      <td>-7.384</td>\n",
       "      <td>-0.220</td>\n",
       "      <td>0.820</td>\n",
       "      <td>0.128</td>\n",
       "    </tr>\n",
       "    <tr>\n",
       "      <th>1994</th>\n",
       "      <td>1994</td>\n",
       "      <td>0.080377</td>\n",
       "      <td>-0.611745</td>\n",
       "      <td>0.814548</td>\n",
       "      <td>0.047300</td>\n",
       "      <td>0.616004</td>\n",
       "      <td>-0.275717</td>\n",
       "      <td>-0.193182</td>\n",
       "      <td>0.212423</td>\n",
       "      <td>-1.020052</td>\n",
       "      <td>...</td>\n",
       "      <td>0.676657</td>\n",
       "      <td>-0.689858</td>\n",
       "      <td>0.136043</td>\n",
       "      <td>0.956</td>\n",
       "      <td>-39.196</td>\n",
       "      <td>-3.144</td>\n",
       "      <td>-7.660</td>\n",
       "      <td>-0.312</td>\n",
       "      <td>0.760</td>\n",
       "      <td>0.096</td>\n",
       "    </tr>\n",
       "    <tr>\n",
       "      <th>1995</th>\n",
       "      <td>1995</td>\n",
       "      <td>0.081200</td>\n",
       "      <td>-0.614421</td>\n",
       "      <td>0.815982</td>\n",
       "      <td>0.041218</td>\n",
       "      <td>0.616817</td>\n",
       "      <td>-0.278802</td>\n",
       "      <td>-0.190729</td>\n",
       "      <td>0.212423</td>\n",
       "      <td>-1.020052</td>\n",
       "      <td>...</td>\n",
       "      <td>0.676657</td>\n",
       "      <td>-0.689858</td>\n",
       "      <td>0.136043</td>\n",
       "      <td>0.796</td>\n",
       "      <td>-38.656</td>\n",
       "      <td>-3.188</td>\n",
       "      <td>-7.316</td>\n",
       "      <td>-0.420</td>\n",
       "      <td>0.752</td>\n",
       "      <td>0.084</td>\n",
       "    </tr>\n",
       "    <tr>\n",
       "      <th>1996</th>\n",
       "      <td>1996</td>\n",
       "      <td>0.082023</td>\n",
       "      <td>-0.617096</td>\n",
       "      <td>0.817272</td>\n",
       "      <td>0.035280</td>\n",
       "      <td>0.617437</td>\n",
       "      <td>-0.282313</td>\n",
       "      <td>-0.188469</td>\n",
       "      <td>0.212423</td>\n",
       "      <td>-1.020052</td>\n",
       "      <td>...</td>\n",
       "      <td>0.676657</td>\n",
       "      <td>-0.689858</td>\n",
       "      <td>0.136043</td>\n",
       "      <td>0.796</td>\n",
       "      <td>-38.440</td>\n",
       "      <td>-3.096</td>\n",
       "      <td>-7.408</td>\n",
       "      <td>-0.384</td>\n",
       "      <td>1.116</td>\n",
       "      <td>0.096</td>\n",
       "    </tr>\n",
       "    <tr>\n",
       "      <th>1997</th>\n",
       "      <td>1997</td>\n",
       "      <td>0.082854</td>\n",
       "      <td>-0.619881</td>\n",
       "      <td>0.818852</td>\n",
       "      <td>0.029334</td>\n",
       "      <td>0.618264</td>\n",
       "      <td>-0.284586</td>\n",
       "      <td>-0.186416</td>\n",
       "      <td>0.212423</td>\n",
       "      <td>-1.020052</td>\n",
       "      <td>...</td>\n",
       "      <td>0.676657</td>\n",
       "      <td>-0.689858</td>\n",
       "      <td>0.136043</td>\n",
       "      <td>0.900</td>\n",
       "      <td>-37.628</td>\n",
       "      <td>-3.400</td>\n",
       "      <td>-7.316</td>\n",
       "      <td>-0.552</td>\n",
       "      <td>1.084</td>\n",
       "      <td>0.076</td>\n",
       "    </tr>\n",
       "    <tr>\n",
       "      <th>1998</th>\n",
       "      <td>1998</td>\n",
       "      <td>0.083573</td>\n",
       "      <td>-0.622557</td>\n",
       "      <td>0.820142</td>\n",
       "      <td>0.023686</td>\n",
       "      <td>0.618663</td>\n",
       "      <td>-0.287685</td>\n",
       "      <td>-0.184363</td>\n",
       "      <td>0.212423</td>\n",
       "      <td>-1.020052</td>\n",
       "      <td>...</td>\n",
       "      <td>0.676657</td>\n",
       "      <td>-0.689858</td>\n",
       "      <td>0.136043</td>\n",
       "      <td>1.116</td>\n",
       "      <td>-37.520</td>\n",
       "      <td>-3.420</td>\n",
       "      <td>-7.064</td>\n",
       "      <td>-0.544</td>\n",
       "      <td>0.856</td>\n",
       "      <td>0.068</td>\n",
       "    </tr>\n",
       "    <tr>\n",
       "      <th>1999</th>\n",
       "      <td>1999</td>\n",
       "      <td>0.084396</td>\n",
       "      <td>-0.625335</td>\n",
       "      <td>0.821577</td>\n",
       "      <td>0.017893</td>\n",
       "      <td>0.618663</td>\n",
       "      <td>-0.290797</td>\n",
       "      <td>-0.182517</td>\n",
       "      <td>0.212423</td>\n",
       "      <td>-1.020052</td>\n",
       "      <td>...</td>\n",
       "      <td>0.676657</td>\n",
       "      <td>-0.689858</td>\n",
       "      <td>0.136043</td>\n",
       "      <td>1.220</td>\n",
       "      <td>-37.792</td>\n",
       "      <td>-3.304</td>\n",
       "      <td>-7.500</td>\n",
       "      <td>-0.396</td>\n",
       "      <td>1.092</td>\n",
       "      <td>0.076</td>\n",
       "    </tr>\n",
       "    <tr>\n",
       "      <th>2000</th>\n",
       "      <td>2000</td>\n",
       "      <td>0.085227</td>\n",
       "      <td>-0.628018</td>\n",
       "      <td>0.823146</td>\n",
       "      <td>0.011946</td>\n",
       "      <td>0.619077</td>\n",
       "      <td>-0.293068</td>\n",
       "      <td>-0.180671</td>\n",
       "      <td>0.212423</td>\n",
       "      <td>-1.020052</td>\n",
       "      <td>...</td>\n",
       "      <td>0.676657</td>\n",
       "      <td>-0.689858</td>\n",
       "      <td>0.136043</td>\n",
       "      <td>1.116</td>\n",
       "      <td>-37.900</td>\n",
       "      <td>-3.376</td>\n",
       "      <td>-7.020</td>\n",
       "      <td>-0.364</td>\n",
       "      <td>0.800</td>\n",
       "      <td>0.068</td>\n",
       "    </tr>\n",
       "  </tbody>\n",
       "</table>\n",
       "<p>2001 rows × 22 columns</p>\n",
       "</div>"
      ],
      "text/plain": [
       "      Unnamed: 0        j1        j2        j3        j4        j5        j6  \\\n",
       "0              0  0.000000  0.000000  0.000000  0.000000  0.000000  0.000000   \n",
       "1              1 -0.002104 -0.001510  0.000021 -0.003979  0.003341 -0.004884   \n",
       "2              2 -0.002104 -0.001510  0.000021 -0.003979  0.003341 -0.004884   \n",
       "3              3 -0.002104 -0.001510  0.000021 -0.003979  0.003341 -0.004884   \n",
       "4              4 -0.002309 -0.001510  0.000166 -0.004269  0.002928 -0.004884   \n",
       "5              5 -0.002721 -0.001407  0.000743 -0.006010  0.001288 -0.004058   \n",
       "6              6 -0.003241 -0.001304  0.002034 -0.007742  0.001081 -0.004884   \n",
       "7              7 -0.004271 -0.001304  0.003910 -0.009493  0.001895 -0.007350   \n",
       "8              8 -0.005506 -0.001510  0.005787 -0.011956  0.001895 -0.009415   \n",
       "9              9 -0.007364 -0.002333  0.007944 -0.013978  0.002722 -0.011881   \n",
       "10            10 -0.009841 -0.003362  0.010398 -0.016297  0.003341 -0.014773   \n",
       "11            11 -0.012928 -0.004494  0.012844 -0.019193  0.004787 -0.018686   \n",
       "12            12 -0.016748 -0.005941  0.016164 -0.022090  0.007460 -0.023011   \n",
       "13            13 -0.021283 -0.007382  0.018609 -0.025708  0.009938 -0.026936   \n",
       "14            14 -0.026435 -0.009234  0.021344 -0.029326  0.012417 -0.030435   \n",
       "15            15 -0.032107 -0.011498  0.024087 -0.032665  0.015297 -0.033739   \n",
       "16            16 -0.038295 -0.013453  0.026532 -0.037447  0.017969 -0.036205   \n",
       "17            17 -0.044997 -0.015621  0.029564 -0.042076  0.022101 -0.039511   \n",
       "18            18 -0.052110 -0.017782  0.032587 -0.046858  0.026839 -0.042597   \n",
       "19            19 -0.059738 -0.020149  0.035032 -0.051785  0.030957 -0.044869   \n",
       "20            20 -0.067675 -0.023037  0.037486 -0.055846  0.035282 -0.046935   \n",
       "21            21 -0.075722 -0.025918  0.039788 -0.060331  0.038988 -0.048161   \n",
       "22            22 -0.083651 -0.028491  0.042098 -0.065402  0.042706 -0.049813   \n",
       "23            23 -0.091897 -0.031063  0.044687 -0.070762  0.047651 -0.052293   \n",
       "24            24 -0.100252 -0.033334  0.046988 -0.076708  0.052183 -0.054552   \n",
       "25            25 -0.108601 -0.036112  0.049442 -0.081337  0.057335 -0.057650   \n",
       "26            26 -0.116641 -0.038994  0.051600 -0.085542  0.061246 -0.059717   \n",
       "27            27 -0.124886 -0.041676  0.053477 -0.090026  0.064332 -0.061356   \n",
       "28            28 -0.133138 -0.044455  0.055769 -0.093934  0.067418 -0.064455   \n",
       "29            29 -0.140869 -0.046616  0.057789 -0.098870  0.070930 -0.066727   \n",
       "...          ...       ...       ...       ...       ...       ...       ...   \n",
       "1971        1971  0.063057 -0.552644  0.783002  0.181298  0.606127 -0.217308   \n",
       "1972        1972  0.064188 -0.555113  0.784726  0.175793  0.606334 -0.219166   \n",
       "1973        1973  0.065218 -0.557583  0.786305  0.170280  0.606540 -0.221633   \n",
       "1974        1974  0.066150 -0.560053  0.787884  0.164631  0.606334 -0.224318   \n",
       "1975        1975  0.067076 -0.562522  0.789453  0.159127  0.606540 -0.226177   \n",
       "1976        1976  0.068002 -0.565095  0.790744  0.153623  0.606540 -0.229069   \n",
       "1977        1977  0.068723 -0.567674  0.792179  0.148263  0.606747 -0.231342   \n",
       "1978        1978  0.069553 -0.570145  0.793469  0.142470  0.606540 -0.233614   \n",
       "1979        1979  0.070272 -0.572614  0.794903  0.136821  0.606540 -0.236906   \n",
       "1980        1980  0.070993 -0.575187  0.796491  0.131019  0.607160 -0.239592   \n",
       "1981        1981  0.071714 -0.577766  0.797927  0.125370  0.607573 -0.242070   \n",
       "1982        1982  0.072331 -0.580235  0.799217  0.119433  0.607160 -0.245376   \n",
       "1983        1983  0.072955 -0.582809  0.800643  0.113486  0.607573 -0.247635   \n",
       "1984        1984  0.073675 -0.585388  0.802077  0.107404  0.608192 -0.250527   \n",
       "1985        1985  0.074293 -0.587960  0.803367  0.101477  0.609006 -0.253832   \n",
       "1986        1986  0.075013 -0.590533  0.804658  0.095395  0.610039 -0.256104   \n",
       "1987        1987  0.075527 -0.593215  0.805804  0.089602  0.610452 -0.258790   \n",
       "1988        1988  0.076151 -0.595891  0.806950  0.083809  0.611059 -0.261270   \n",
       "1989        1989  0.076769 -0.598566  0.808240  0.077727  0.611886 -0.263115   \n",
       "1990        1990  0.077387 -0.601235  0.809386  0.071780  0.612712 -0.266008   \n",
       "1991        1991  0.078106 -0.603917  0.810677  0.065698  0.613731 -0.268279   \n",
       "1992        1992  0.078827 -0.606490  0.811822  0.059616  0.614558 -0.270552   \n",
       "1993        1993  0.079656 -0.609166  0.813113  0.053525  0.614971 -0.273650   \n",
       "1994        1994  0.080377 -0.611745  0.814548  0.047300  0.616004 -0.275717   \n",
       "1995        1995  0.081200 -0.614421  0.815982  0.041218  0.616817 -0.278802   \n",
       "1996        1996  0.082023 -0.617096  0.817272  0.035280  0.617437 -0.282313   \n",
       "1997        1997  0.082854 -0.619881  0.818852  0.029334  0.618264 -0.284586   \n",
       "1998        1998  0.083573 -0.622557  0.820142  0.023686  0.618663 -0.287685   \n",
       "1999        1999  0.084396 -0.625335  0.821577  0.017893  0.618663 -0.290797   \n",
       "2000        2000  0.085227 -0.628018  0.823146  0.011946  0.619077 -0.293068   \n",
       "\n",
       "            j7       jd1       jd2  ...         jd5       jd6       jd7  \\\n",
       "0     0.000000  0.000000  0.000000  ...    0.000000  0.000000  0.000000   \n",
       "1    -0.001673 -0.891148 -0.277998  ...    0.378086 -0.404293  1.026457   \n",
       "2    -0.001673 -0.891148 -0.277998  ...    0.378086 -0.404293  1.026457   \n",
       "3    -0.001673 -0.891148 -0.277998  ...    0.378086 -0.404293  1.026457   \n",
       "4    -0.001467 -0.891148 -0.277998  ...    0.378086 -0.404293  1.026457   \n",
       "5     0.001813 -0.891148 -0.277998  ...    0.378086 -0.404293  1.026457   \n",
       "6     0.006951 -0.891148 -0.277998  ...    0.378086 -0.404293  1.026457   \n",
       "7     0.013923 -0.891148 -0.277998  ...    0.378086 -0.404293  1.026457   \n",
       "8     0.022341 -0.891148 -0.277998  ...    0.378086 -0.404293  1.026457   \n",
       "9     0.032605 -0.891148 -0.277998  ...    0.378086 -0.404293  1.026457   \n",
       "10    0.042456 -0.891148 -0.277998  ...    0.378086 -0.404293  1.026457   \n",
       "11    0.050668 -0.891148 -0.277998  ...    0.378086 -0.404293  1.026457   \n",
       "12    0.058466 -0.891148 -0.277998  ...    0.378086 -0.404293  1.026457   \n",
       "13    0.065864 -0.891148 -0.277998  ...    0.378086 -0.404293  1.026457   \n",
       "14    0.072849 -0.891148 -0.277998  ...    0.378086 -0.404293  1.026457   \n",
       "15    0.078801 -0.891148 -0.277998  ...    0.378086 -0.404293  1.026457   \n",
       "16    0.083526 -0.891148 -0.277998  ...    0.378086 -0.404293  1.026457   \n",
       "17    0.087632 -0.891148 -0.277998  ...    0.378086 -0.404293  1.026457   \n",
       "18    0.091531 -0.891148 -0.277998  ...    0.378086 -0.404293  1.026457   \n",
       "19    0.095430 -0.891148 -0.277998  ...    0.378086 -0.404293  1.026457   \n",
       "20    0.099949 -0.891148 -0.277998  ...    0.378086 -0.404293  1.026457   \n",
       "21    0.104868 -0.891148 -0.277998  ...    0.378086 -0.404293  1.026457   \n",
       "22    0.110613 -0.891148 -0.277998  ...    0.378086 -0.404293  1.026457   \n",
       "23    0.117185 -0.891148 -0.277998  ...    0.378086 -0.404293  1.026457   \n",
       "24    0.123757 -0.891148 -0.277998  ...    0.378086 -0.404293  1.026457   \n",
       "25    0.130729 -0.891148 -0.277998  ...    0.378086 -0.404293  1.026457   \n",
       "26    0.137094 -0.891148 -0.277998  ...    0.378086 -0.404293  1.026457   \n",
       "27    0.143459 -0.891148 -0.277998  ...    0.378086 -0.404293  1.026457   \n",
       "28    0.150030 -0.891148 -0.277998  ...    0.378086 -0.404293  1.026457   \n",
       "29    0.157015 -0.891148 -0.277998  ...    0.378086 -0.404293  1.026457   \n",
       "...        ...       ...       ...  ...         ...       ...       ...   \n",
       "1971 -0.240797  0.212423 -1.020052  ...    0.676657 -0.689858  0.136043   \n",
       "1972 -0.238551  0.212423 -1.020052  ...    0.676657 -0.689858  0.136043   \n",
       "1973 -0.236291  0.212423 -1.020052  ...    0.676657 -0.689858  0.136043   \n",
       "1974 -0.234031  0.212423 -1.020052  ...    0.676657 -0.689858  0.136043   \n",
       "1975 -0.231772  0.212423 -1.020052  ...    0.676657 -0.689858  0.136043   \n",
       "1976 -0.229720  0.212423 -1.020052  ...    0.676657 -0.689858  0.136043   \n",
       "1977 -0.227666  0.212423 -1.020052  ...    0.676657 -0.689858  0.136043   \n",
       "1978 -0.226026  0.212423 -1.020052  ...    0.676657 -0.689858  0.136043   \n",
       "1979 -0.224181  0.212423 -1.020052  ...    0.676657 -0.689858  0.136043   \n",
       "1980 -0.222334  0.212423 -1.020052  ...    0.676657 -0.689858  0.136043   \n",
       "1981 -0.220488  0.212423 -1.020052  ...    0.676657 -0.689858  0.136043   \n",
       "1982 -0.218835  0.212423 -1.020052  ...    0.676657 -0.689858  0.136043   \n",
       "1983 -0.216989  0.212423 -1.020052  ...    0.676657 -0.689858  0.136043   \n",
       "1984 -0.215143  0.212423 -1.020052  ...    0.676657 -0.689858  0.136043   \n",
       "1985 -0.213297  0.212423 -1.020052  ...    0.676657 -0.689858  0.136043   \n",
       "1986 -0.211244  0.212423 -1.020052  ...    0.676657 -0.689858  0.136043   \n",
       "1987 -0.209190  0.212423 -1.020052  ...    0.676657 -0.689858  0.136043   \n",
       "1988 -0.206932  0.212423 -1.020052  ...    0.676657 -0.689858  0.136043   \n",
       "1989 -0.204685  0.212423 -1.020052  ...    0.676657 -0.689858  0.136043   \n",
       "1990 -0.202426  0.212423 -1.020052  ...    0.676657 -0.689858  0.136043   \n",
       "1991 -0.200166  0.212423 -1.020052  ...    0.676657 -0.689858  0.136043   \n",
       "1992 -0.197700  0.212423 -1.020052  ...    0.676657 -0.689858  0.136043   \n",
       "1993 -0.195440  0.212423 -1.020052  ...    0.676657 -0.689858  0.136043   \n",
       "1994 -0.193182  0.212423 -1.020052  ...    0.676657 -0.689858  0.136043   \n",
       "1995 -0.190729  0.212423 -1.020052  ...    0.676657 -0.689858  0.136043   \n",
       "1996 -0.188469  0.212423 -1.020052  ...    0.676657 -0.689858  0.136043   \n",
       "1997 -0.186416  0.212423 -1.020052  ...    0.676657 -0.689858  0.136043   \n",
       "1998 -0.184363  0.212423 -1.020052  ...    0.676657 -0.689858  0.136043   \n",
       "1999 -0.182517  0.212423 -1.020052  ...    0.676657 -0.689858  0.136043   \n",
       "2000 -0.180671  0.212423 -1.020052  ...    0.676657 -0.689858  0.136043   \n",
       "\n",
       "          e1      e2     e3      e4     e5     e6     e7  \n",
       "0      0.000   0.000  0.000   0.000  0.000  0.000  0.000  \n",
       "1      0.104 -44.324 -4.556 -13.812  2.324 -0.700 -0.024  \n",
       "2      0.156 -44.268 -4.600 -13.972  2.296 -0.708  0.000  \n",
       "3      0.052 -44.324 -4.576 -13.856  2.276 -0.708 -0.012  \n",
       "4     -3.880 -45.456 -4.392 -15.388  2.420 -0.720  0.056  \n",
       "5     -7.600 -48.752 -4.440 -18.384  3.232 -1.228  0.044  \n",
       "6    -11.800 -52.800 -4.160 -19.596  3.604 -1.704  0.108  \n",
       "7    -16.004 -55.120 -5.548 -20.788  3.312 -1.288  0.116  \n",
       "8    -20.364 -56.740 -6.244 -20.284  3.376 -1.220  0.136  \n",
       "9    -24.508 -57.388 -5.988 -21.128  3.468 -1.344 -0.012  \n",
       "10   -27.488 -56.364 -5.712 -22.480  3.544 -1.412  0.024  \n",
       "11   -29.080 -55.768 -5.340 -21.404  3.760 -1.432  0.056  \n",
       "12   -29.296 -55.176 -5.712 -20.788  3.372 -1.052  0.068  \n",
       "13   -30.092 -54.636 -5.920 -19.644  3.004 -0.884  0.036  \n",
       "14   -29.456 -53.988 -5.504 -18.112  3.228 -0.960  0.000  \n",
       "15   -25.680 -52.208 -5.432 -19.024  3.084 -0.996 -0.052  \n",
       "16   -20.416 -51.612 -4.716 -18.544  3.324 -1.208  0.044  \n",
       "17   -15.472 -51.344 -4.600 -17.584  3.144 -1.116  0.076  \n",
       "18   -12.068 -50.532 -5.804 -16.876  2.672 -0.708  0.084  \n",
       "19   -11.800 -49.508 -5.756 -15.116  2.584 -0.656  0.172  \n",
       "20   -13.292 -48.048 -5.548 -15.000  2.584 -0.604  0.200  \n",
       "21    -9.196 -46.268 -5.548 -16.144  2.848 -0.824  0.188  \n",
       "22    -2.708 -45.348 -4.784 -15.460  3.168 -1.136  0.104  \n",
       "23    -0.796 -45.024 -5.456 -15.664  2.700 -0.780  0.052  \n",
       "24    -2.124 -45.348 -5.848 -14.084  2.232 -0.604  0.024  \n",
       "25    -0.316 -44.432 -5.872 -12.692  1.808 -0.180  0.068  \n",
       "26     5.848 -41.624 -5.780 -13.444  1.620 -0.016  0.068  \n",
       "27     7.068 -39.952 -4.416 -12.736  1.920 -0.504  0.096  \n",
       "28     5.740 -39.196 -3.932 -13.056  1.976 -0.260  0.076  \n",
       "29     6.380 -38.924 -3.976 -13.104  1.956 -0.384  0.012  \n",
       "...      ...     ...    ...     ...    ...    ...    ...  \n",
       "1971  -2.020 -41.084 -3.932  -9.764  0.332  0.596  0.220  \n",
       "1972  -1.964 -41.464 -4.044 -10.108  0.276  0.468  0.148  \n",
       "1973  -2.020 -41.300 -4.000 -10.472  0.200  0.364  0.120  \n",
       "1974  -2.176 -41.140 -4.000 -10.496  0.304  0.664  0.096  \n",
       "1975  -2.176 -41.140 -4.024 -10.244  0.168  0.436  0.084  \n",
       "1976  -1.964 -40.816 -3.952  -9.876  0.136  0.556  0.104  \n",
       "1977  -1.700 -40.652 -4.000  -9.672  0.160  0.644  0.120  \n",
       "1978  -1.432 -40.384 -3.860  -9.628  0.156  0.420  0.096  \n",
       "1979  -1.328 -40.276 -4.044  -9.260  0.292  0.624  0.104  \n",
       "1980  -1.276 -40.816 -4.324  -9.512  0.096  0.760  0.096  \n",
       "1981  -1.168 -41.140 -4.392  -9.468 -0.088  0.552  0.096  \n",
       "1982  -0.744 -41.032 -3.836  -9.236  0.208  0.664  0.120  \n",
       "1983  -0.476 -40.924 -3.720  -9.216  0.224  0.520  0.108  \n",
       "1984  -0.264 -40.760 -3.744  -9.444  0.032  0.368  0.104  \n",
       "1985  -0.264 -40.492 -3.792  -9.056 -0.016  0.716  0.140  \n",
       "1986  -0.156 -40.436 -3.608  -8.664 -0.192  0.556  0.136  \n",
       "1987   0.316 -40.060 -3.560  -8.504 -0.200  0.572  0.120  \n",
       "1988   0.744 -39.196 -3.284  -8.460 -0.128  0.676  0.148  \n",
       "1989   0.956 -39.464 -3.260  -8.184 -0.096  0.388  0.148  \n",
       "1990   0.796 -39.680 -3.352  -7.980 -0.096  0.628  0.172  \n",
       "1991   0.848 -39.520 -3.352  -8.256 -0.276  0.732  0.200  \n",
       "1992   1.008 -39.464 -3.260  -7.728 -0.344  0.556  0.160  \n",
       "1993   0.956 -39.304 -3.212  -7.384 -0.220  0.820  0.128  \n",
       "1994   0.956 -39.196 -3.144  -7.660 -0.312  0.760  0.096  \n",
       "1995   0.796 -38.656 -3.188  -7.316 -0.420  0.752  0.084  \n",
       "1996   0.796 -38.440 -3.096  -7.408 -0.384  1.116  0.096  \n",
       "1997   0.900 -37.628 -3.400  -7.316 -0.552  1.084  0.076  \n",
       "1998   1.116 -37.520 -3.420  -7.064 -0.544  0.856  0.068  \n",
       "1999   1.220 -37.792 -3.304  -7.500 -0.396  1.092  0.076  \n",
       "2000   1.116 -37.900 -3.376  -7.020 -0.364  0.800  0.068  \n",
       "\n",
       "[2001 rows x 22 columns]"
      ]
     },
     "execution_count": 7,
     "metadata": {},
     "output_type": "execute_result"
    }
   ],
   "source": [
    "df"
   ]
  },
  {
   "cell_type": "code",
   "execution_count": 5,
   "metadata": {},
   "outputs": [
    {
     "ename": "AttributeError",
     "evalue": "'DataFrame' object has no attribute 'jd4'",
     "output_type": "error",
     "traceback": [
      "\u001b[0;31m---------------------------------------------------------------------------\u001b[0m",
      "\u001b[0;31mAttributeError\u001b[0m                            Traceback (most recent call last)",
      "\u001b[0;32m<ipython-input-5-18f2cbd7c5e0>\u001b[0m in \u001b[0;36m<module>\u001b[0;34m()\u001b[0m\n\u001b[0;32m----> 1\u001b[0;31m \u001b[0mdelta_j4\u001b[0m \u001b[0;34m=\u001b[0m \u001b[0mdf\u001b[0m\u001b[0;34m.\u001b[0m\u001b[0mj4\u001b[0m \u001b[0;34m-\u001b[0m \u001b[0mdf\u001b[0m\u001b[0;34m.\u001b[0m\u001b[0mjd4\u001b[0m\u001b[0;34m\u001b[0m\u001b[0m\n\u001b[0m\u001b[1;32m      2\u001b[0m \u001b[0mfig3\u001b[0m \u001b[0;34m=\u001b[0m \u001b[0mplt\u001b[0m\u001b[0;34m.\u001b[0m\u001b[0mfigure\u001b[0m\u001b[0;34m(\u001b[0m\u001b[0;34m)\u001b[0m\u001b[0;34m;\u001b[0m \u001b[0mdelta_j4\u001b[0m\u001b[0;34m[\u001b[0m\u001b[0;36m1\u001b[0m\u001b[0;34m:\u001b[0m\u001b[0;36m600\u001b[0m\u001b[0;34m]\u001b[0m\u001b[0;34m.\u001b[0m\u001b[0mplot\u001b[0m\u001b[0;34m(\u001b[0m\u001b[0;34m)\u001b[0m\u001b[0;34m;\u001b[0m \u001b[0mplt\u001b[0m\u001b[0;34m.\u001b[0m\u001b[0mlegend\u001b[0m\u001b[0;34m(\u001b[0m\u001b[0mloc\u001b[0m\u001b[0;34m=\u001b[0m\u001b[0;34m'best'\u001b[0m\u001b[0;34m)\u001b[0m\u001b[0;34m\u001b[0m\u001b[0m\n\u001b[1;32m      3\u001b[0m \u001b[0;31m#delta_j7.head()\u001b[0m\u001b[0;34m\u001b[0m\u001b[0;34m\u001b[0m\u001b[0m\n\u001b[1;32m      4\u001b[0m \u001b[0mdf\u001b[0m\u001b[0;34m[\u001b[0m\u001b[0;34m'delta_j4'\u001b[0m\u001b[0;34m]\u001b[0m \u001b[0;34m=\u001b[0m \u001b[0mdelta_j4\u001b[0m\u001b[0;34m\u001b[0m\u001b[0m\n",
      "\u001b[0;32m/usr/local/lib/python2.7/dist-packages/pandas/core/generic.pyc\u001b[0m in \u001b[0;36m__getattr__\u001b[0;34m(self, name)\u001b[0m\n\u001b[1;32m   4370\u001b[0m             \u001b[0;32mif\u001b[0m \u001b[0mself\u001b[0m\u001b[0;34m.\u001b[0m\u001b[0m_info_axis\u001b[0m\u001b[0;34m.\u001b[0m\u001b[0m_can_hold_identifiers_and_holds_name\u001b[0m\u001b[0;34m(\u001b[0m\u001b[0mname\u001b[0m\u001b[0;34m)\u001b[0m\u001b[0;34m:\u001b[0m\u001b[0;34m\u001b[0m\u001b[0m\n\u001b[1;32m   4371\u001b[0m                 \u001b[0;32mreturn\u001b[0m \u001b[0mself\u001b[0m\u001b[0;34m[\u001b[0m\u001b[0mname\u001b[0m\u001b[0;34m]\u001b[0m\u001b[0;34m\u001b[0m\u001b[0m\n\u001b[0;32m-> 4372\u001b[0;31m             \u001b[0;32mreturn\u001b[0m \u001b[0mobject\u001b[0m\u001b[0;34m.\u001b[0m\u001b[0m__getattribute__\u001b[0m\u001b[0;34m(\u001b[0m\u001b[0mself\u001b[0m\u001b[0;34m,\u001b[0m \u001b[0mname\u001b[0m\u001b[0;34m)\u001b[0m\u001b[0;34m\u001b[0m\u001b[0m\n\u001b[0m\u001b[1;32m   4373\u001b[0m \u001b[0;34m\u001b[0m\u001b[0m\n\u001b[1;32m   4374\u001b[0m     \u001b[0;32mdef\u001b[0m \u001b[0m__setattr__\u001b[0m\u001b[0;34m(\u001b[0m\u001b[0mself\u001b[0m\u001b[0;34m,\u001b[0m \u001b[0mname\u001b[0m\u001b[0;34m,\u001b[0m \u001b[0mvalue\u001b[0m\u001b[0;34m)\u001b[0m\u001b[0;34m:\u001b[0m\u001b[0;34m\u001b[0m\u001b[0m\n",
      "\u001b[0;31mAttributeError\u001b[0m: 'DataFrame' object has no attribute 'jd4'"
     ]
    }
   ],
   "source": [
    "delta_j4 = df.j4 - df.jd4\n",
    "fig3 = plt.figure(); delta_j4[1:600].plot(); plt.legend(loc='best')\n",
    "#delta_j7.head()\n",
    "df['delta_j4'] = delta_j4"
   ]
  },
  {
   "cell_type": "markdown",
   "metadata": {},
   "source": [
    "### Plotting delta rad vs effort"
   ]
  },
  {
   "cell_type": "code",
   "execution_count": 5,
   "metadata": {},
   "outputs": [
    {
     "data": {
      "text/plain": [
       "<matplotlib.legend.Legend at 0x7f93be778cd0>"
      ]
     },
     "execution_count": 5,
     "metadata": {},
     "output_type": "execute_result"
    },
    {
     "data": {
      "text/plain": [
       "<Figure size 432x288 with 0 Axes>"
      ]
     },
     "metadata": {},
     "output_type": "display_data"
    },
    {
     "data": {
      "image/png": "[encoded data removed]",
      "text/plain": [
       "<Figure size 432x288 with 1 Axes>"
      ]
     },
     "metadata": {},
     "output_type": "display_data"
    }
   ],
   "source": [
    "fig4 = plt.figure(); df[0:3000].plot(x = 'e7', y = 'delta_j7', marker='.',lw=0.05); plt.legend(loc='best')"
   ]
  },
  {
   "cell_type": "markdown",
   "metadata": {},
   "source": [
    "### Prueba de validación para modelo FFNN\n",
    "#### Solo Neuronas Lineales (model1)\n",
    "Se utiliza un modelo de 1 input layer de 15 neuronas lineales, 2 hidden layers de 15 neuronas lineales y 1 output layer de 2 neuronas lineales.  "
   ]
  },
  {
   "cell_type": "code",
   "execution_count": 9,
   "metadata": {},
   "outputs": [],
   "source": [
    "# Generating model\n",
    "model1 = Sequential()\n",
    "model1.add(Dense(units=10, activation='linear', input_dim=2))\n",
    "model1.add(Dense(units=10, activation='linear'))\n",
    "model1.add(Dense(units=10, activation='linear'))\n",
    "model1.add(Dense(units=1, activation='linear'))\n",
    "\n",
    "model1.compile(loss='mean_squared_error',\n",
    "              optimizer='Adam',\n",
    "              metrics=['accuracy'])\n",
    "\n",
    "(number_training_data, _) = df.shape\n",
    "q_tmp = df.j7.values.reshape(number_training_data,1)\n",
    "T_tmp = df.e7.values.reshape(number_training_data,1)\n",
    "qd_tmp = df.jd7\n",
    "x_train = np.concatenate([q_tmp, T_tmp], axis =1)\n",
    "y_train = qd_tmp.values.reshape(number_training_data,1)\n",
    "#print x_train.shape\n",
    "#print y_train.shape\n"
   ]
  },
  {
   "cell_type": "markdown",
   "metadata": {},
   "source": [
    "#### Feeding data"
   ]
  },
  {
   "cell_type": "code",
   "execution_count": 27,
   "metadata": {},
   "outputs": [
    {
     "name": "stdout",
     "output_type": "stream",
     "text": [
      "Epoch 1/50\n",
      "5001/5001 [==============================] - 0s 78us/step - loss: 0.0944 - acc: 1.9996e-04\n",
      "Epoch 2/50\n",
      "5001/5001 [==============================] - 0s 64us/step - loss: 0.0937 - acc: 1.9996e-04\n",
      "Epoch 3/50\n",
      "5001/5001 [==============================] - 0s 66us/step - loss: 0.0940 - acc: 1.9996e-04\n",
      "Epoch 4/50\n",
      "5001/5001 [==============================] - 0s 74us/step - loss: 0.0936 - acc: 1.9996e-04\n",
      "Epoch 5/50\n",
      "5001/5001 [==============================] - 0s 65us/step - loss: 0.0941 - acc: 1.9996e-04\n",
      "Epoch 6/50\n",
      "5001/5001 [==============================] - 0s 66us/step - loss: 0.0936 - acc: 1.9996e-04\n",
      "Epoch 7/50\n",
      "5001/5001 [==============================] - 0s 79us/step - loss: 0.0938 - acc: 1.9996e-04\n",
      "Epoch 8/50\n",
      "5001/5001 [==============================] - 0s 73us/step - loss: 0.0948 - acc: 1.9996e-04\n",
      "Epoch 9/50\n",
      "5001/5001 [==============================] - 0s 81us/step - loss: 0.0939 - acc: 1.9996e-04\n",
      "Epoch 10/50\n",
      "5001/5001 [==============================] - 0s 71us/step - loss: 0.0939 - acc: 1.9996e-04\n",
      "Epoch 11/50\n",
      "5001/5001 [==============================] - 0s 58us/step - loss: 0.0939 - acc: 1.9996e-04\n",
      "Epoch 12/50\n",
      "5001/5001 [==============================] - 0s 68us/step - loss: 0.0937 - acc: 1.9996e-04\n",
      "Epoch 13/50\n",
      "5001/5001 [==============================] - 0s 60us/step - loss: 0.0935 - acc: 1.9996e-04\n",
      "Epoch 14/50\n",
      "5001/5001 [==============================] - 0s 60us/step - loss: 0.0936 - acc: 1.9996e-04\n",
      "Epoch 15/50\n",
      "5001/5001 [==============================] - 0s 71us/step - loss: 0.0938 - acc: 1.9996e-04\n",
      "Epoch 16/50\n",
      "5001/5001 [==============================] - 0s 65us/step - loss: 0.0938 - acc: 1.9996e-04\n",
      "Epoch 17/50\n",
      "5001/5001 [==============================] - 0s 69us/step - loss: 0.0935 - acc: 1.9996e-04\n",
      "Epoch 18/50\n",
      "5001/5001 [==============================] - 0s 74us/step - loss: 0.0937 - acc: 1.9996e-04\n",
      "Epoch 19/50\n",
      "5001/5001 [==============================] - 0s 71us/step - loss: 0.0940 - acc: 1.9996e-04\n",
      "Epoch 20/50\n",
      "5001/5001 [==============================] - 0s 61us/step - loss: 0.0936 - acc: 1.9996e-04\n",
      "Epoch 21/50\n",
      "5001/5001 [==============================] - 0s 83us/step - loss: 0.0942 - acc: 1.9996e-04\n",
      "Epoch 22/50\n",
      "5001/5001 [==============================] - 0s 71us/step - loss: 0.0937 - acc: 1.9996e-04\n",
      "Epoch 23/50\n",
      "5001/5001 [==============================] - 0s 70us/step - loss: 0.0937 - acc: 1.9996e-04\n",
      "Epoch 24/50\n",
      "5001/5001 [==============================] - 0s 65us/step - loss: 0.0936 - acc: 1.9996e-04\n",
      "Epoch 25/50\n",
      "5001/5001 [==============================] - 0s 69us/step - loss: 0.0937 - acc: 1.9996e-04\n",
      "Epoch 26/50\n",
      "5001/5001 [==============================] - 0s 63us/step - loss: 0.0936 - acc: 1.9996e-04\n",
      "Epoch 27/50\n",
      "5001/5001 [==============================] - 0s 79us/step - loss: 0.0936 - acc: 1.9996e-04\n",
      "Epoch 28/50\n",
      "5001/5001 [==============================] - 0s 66us/step - loss: 0.0934 - acc: 1.9996e-04\n",
      "Epoch 29/50\n",
      "5001/5001 [==============================] - 0s 71us/step - loss: 0.0941 - acc: 1.9996e-04\n",
      "Epoch 30/50\n",
      "5001/5001 [==============================] - 0s 68us/step - loss: 0.0936 - acc: 1.9996e-04\n",
      "Epoch 31/50\n",
      "5001/5001 [==============================] - 0s 57us/step - loss: 0.0936 - acc: 1.9996e-04\n",
      "Epoch 32/50\n",
      "5001/5001 [==============================] - 0s 65us/step - loss: 0.0943 - acc: 1.9996e-04\n",
      "Epoch 33/50\n",
      "5001/5001 [==============================] - 0s 68us/step - loss: 0.0935 - acc: 1.9996e-04\n",
      "Epoch 34/50\n",
      "5001/5001 [==============================] - 0s 62us/step - loss: 0.0936 - acc: 1.9996e-04\n",
      "Epoch 35/50\n",
      "5001/5001 [==============================] - 0s 66us/step - loss: 0.0934 - acc: 1.9996e-04\n",
      "Epoch 36/50\n",
      "5001/5001 [==============================] - 0s 77us/step - loss: 0.0943 - acc: 1.9996e-04\n",
      "Epoch 37/50\n",
      "5001/5001 [==============================] - 0s 72us/step - loss: 0.0937 - acc: 1.9996e-04\n",
      "Epoch 38/50\n",
      "5001/5001 [==============================] - 0s 66us/step - loss: 0.0941 - acc: 1.9996e-04\n",
      "Epoch 39/50\n",
      "5001/5001 [==============================] - 0s 66us/step - loss: 0.0937 - acc: 1.9996e-04\n",
      "Epoch 40/50\n",
      "5001/5001 [==============================] - 0s 61us/step - loss: 0.0937 - acc: 1.9996e-04\n",
      "Epoch 41/50\n",
      "5001/5001 [==============================] - 0s 62us/step - loss: 0.0936 - acc: 1.9996e-04\n",
      "Epoch 42/50\n",
      "5001/5001 [==============================] - 0s 79us/step - loss: 0.0938 - acc: 1.9996e-04\n",
      "Epoch 43/50\n",
      "5001/5001 [==============================] - 0s 64us/step - loss: 0.0936 - acc: 1.9996e-04\n",
      "Epoch 44/50\n",
      "5001/5001 [==============================] - 0s 72us/step - loss: 0.0936 - acc: 1.9996e-04\n",
      "Epoch 45/50\n",
      "5001/5001 [==============================] - 0s 65us/step - loss: 0.0938 - acc: 1.9996e-04\n",
      "Epoch 46/50\n",
      "5001/5001 [==============================] - 0s 67us/step - loss: 0.0934 - acc: 1.9996e-04\n",
      "Epoch 47/50\n",
      "5001/5001 [==============================] - 0s 81us/step - loss: 0.0936 - acc: 1.9996e-04\n",
      "Epoch 48/50\n",
      "5001/5001 [==============================] - 0s 63us/step - loss: 0.0932 - acc: 1.9996e-04\n",
      "Epoch 49/50\n",
      "5001/5001 [==============================] - 0s 68us/step - loss: 0.0944 - acc: 1.9996e-04\n",
      "Epoch 50/50\n",
      "5001/5001 [==============================] - 0s 72us/step - loss: 0.0935 - acc: 1.9996e-04\n"
     ]
    },
    {
     "data": {
      "text/plain": [
       "<keras.callbacks.History at 0x7f7e78eac410>"
      ]
     },
     "execution_count": 27,
     "metadata": {},
     "output_type": "execute_result"
    }
   ],
   "source": [
    "model1.fit(x_train, y_train, epochs=50, batch_size=50)"
   ]
  },
  {
   "cell_type": "code",
   "execution_count": 11,
   "metadata": {},
   "outputs": [],
   "source": [
    "(number_evaluation_data, _) = df_eval.shape\n",
    "q_tmp = df_eval.j7.values.reshape(number_evaluation_data,1)\n",
    "T_tmp = df_eval.e7.values.reshape(number_evaluation_data,1)\n",
    "qd_tmp = df_eval.jd7\n",
    "x_eval = np.concatenate([q_tmp, T_tmp], axis =1)\n",
    "y_eval = qd_tmp.values.reshape(number_evaluation_data,1)"
   ]
  },
  {
   "cell_type": "code",
   "execution_count": 12,
   "metadata": {},
   "outputs": [
    {
     "name": "stdout",
     "output_type": "stream",
     "text": [
      "5001/5001 [==============================] - 0s 43us/step\n"
     ]
    },
    {
     "data": {
      "text/plain": [
       "[0.09600156076569792, 0.00019996000352894586]"
      ]
     },
     "execution_count": 12,
     "metadata": {},
     "output_type": "execute_result"
    }
   ],
   "source": [
    "model1.evaluate(x_eval, y_eval, batch_size=50)"
   ]
  },
  {
   "cell_type": "code",
   "execution_count": 20,
   "metadata": {},
   "outputs": [],
   "source": [
    "(number_validation_data, _) = df_val.shape\n",
    "q_tmp = df_val.j7.values.reshape(number_validation_data,1)\n",
    "T_tmp = df_val.e7.values.reshape(number_validation_data,1)\n",
    "qd_tmp = df_val.jd7\n",
    "x_val = np.concatenate([q_tmp, T_tmp], axis =1)\n",
    "y_val = qd_tmp.values.reshape(number_validation_data,1)"
   ]
  },
  {
   "cell_type": "code",
   "execution_count": 28,
   "metadata": {},
   "outputs": [],
   "source": [
    "y1_pred = model1.predict(x_val)"
   ]
  },
  {
   "cell_type": "code",
   "execution_count": 29,
   "metadata": {},
   "outputs": [],
   "source": [
    "df_val['y1_pred'] = y1_pred"
   ]
  },
  {
   "cell_type": "code",
   "execution_count": 30,
   "metadata": {},
   "outputs": [
    {
     "data": {
      "text/plain": [
       "<matplotlib.legend.Legend at 0x7f7e876011d0>"
      ]
     },
     "execution_count": 30,
     "metadata": {},
     "output_type": "execute_result"
    },
    {
     "data": {
      "text/plain": [
       "<Figure size 432x288 with 0 Axes>"
      ]
     },
     "metadata": {},
     "output_type": "display_data"
    },
    {
     "data": {
      "image/png": "[encoded data removed]",
      "text/plain": [
       "<Figure size 432x288 with 1 Axes>"
      ]
     },
     "metadata": {},
     "output_type": "display_data"
    },
    {
     "data": {
      "image/png": "[encoded data removed]",
      "text/plain": [
       "<Figure size 432x288 with 1 Axes>"
      ]
     },
     "metadata": {},
     "output_type": "display_data"
    }
   ],
   "source": [
    "fig5 = plt.figure(); df_val[0:200].plot(x = 'e7', y = 'jd7', marker='.',lw=0.3)\n",
    "df_val[0:200].plot(x = 'e7', y = 'y1_pred', marker='.',lw=0.3); plt.legend(loc='best')"
   ]
  },
  {
   "cell_type": "code",
   "execution_count": 31,
   "metadata": {},
   "outputs": [
    {
     "data": {
      "text/plain": [
       "<matplotlib.legend.Legend at 0x7f7e78b3c610>"
      ]
     },
     "execution_count": 31,
     "metadata": {},
     "output_type": "execute_result"
    },
    {
     "data": {
      "text/plain": [
       "<Figure size 432x288 with 0 Axes>"
      ]
     },
     "metadata": {},
     "output_type": "display_data"
    },
    {
     "data": {
      "image/png": "[encoded data removed]",
      "text/plain": [
       "<Figure size 432x288 with 1 Axes>"
      ]
     },
     "metadata": {},
     "output_type": "display_data"
    },
    {
     "data": {
      "image/png": "[encoded data removed]",
      "text/plain": [
       "<Figure size 432x288 with 1 Axes>"
      ]
     },
     "metadata": {},
     "output_type": "display_data"
    }
   ],
   "source": [
    "fig6 = plt.figure(); df_val[0:1000].plot(x = 'j7', y = 'jd7', marker='.',lw=0.05)\n",
    "df_val[0:1000].plot(x = 'j7', y = 'y1_pred', marker='.',lw=0.05); plt.legend(loc='best')"
   ]
  },
  {
   "cell_type": "code",
   "execution_count": 23,
   "metadata": {},
   "outputs": [
    {
     "name": "stdout",
     "output_type": "stream",
     "text": [
      "(50001, 2)\n",
      "(20001, 23)\n",
      "(10001, 22)\n"
     ]
    }
   ],
   "source": [
    "print x_train.shape\n",
    "print df_val.shape\n",
    "print df_eval.shape"
   ]
  },
  {
   "cell_type": "markdown",
   "metadata": {},
   "source": [
    "### Neuronas  con función de activación sigmoid\n",
    "Se utiliza un modelo de 1 input layer de 20 neuronas lineales, 2 hidden layers de 20 neuronas sigmoides y 1 output layer de 2 neuronas lineales.  "
   ]
  },
  {
   "cell_type": "code",
   "execution_count": 18,
   "metadata": {},
   "outputs": [],
   "source": [
    "model2 = Sequential()\n",
    "model2.add(Dense(units=20, activation='linear', input_dim=2))\n",
    "model2.add(Dense(units=20, activation='sigmoid'))\n",
    "model2.add(Dense(units=20, activation='sigmoid'))\n",
    "model2.add(Dense(units=1, activation='linear'))\n",
    "\n",
    "model2.compile(loss='mean_squared_error',\n",
    "              optimizer='Adam',\n",
    "              metrics=['accuracy'])\n"
   ]
  },
  {
   "cell_type": "markdown",
   "metadata": {},
   "source": [
    "#### Feeding data"
   ]
  },
  {
   "cell_type": "code",
   "execution_count": 19,
   "metadata": {},
   "outputs": [
    {
     "name": "stdout",
     "output_type": "stream",
     "text": [
      "Epoch 1/10\n",
      "50001/50001 [==============================] - 4s 81us/step - loss: 0.0178 - acc: 2.0000e-05\n",
      "Epoch 2/10\n",
      "50001/50001 [==============================] - 4s 76us/step - loss: 2.6640e-05 - acc: 2.0000e-05\n",
      "Epoch 3/10\n",
      "50001/50001 [==============================] - 4s 77us/step - loss: 2.0148e-05 - acc: 2.0000e-05\n",
      "Epoch 4/10\n",
      "50001/50001 [==============================] - 4s 75us/step - loss: 1.8707e-05 - acc: 2.0000e-05\n",
      "Epoch 5/10\n",
      "50001/50001 [==============================] - 4s 74us/step - loss: 1.8417e-05 - acc: 2.0000e-05\n",
      "Epoch 6/10\n",
      "50001/50001 [==============================] - 4s 73us/step - loss: 1.7713e-05 - acc: 2.0000e-05\n",
      "Epoch 7/10\n",
      "50001/50001 [==============================] - 4s 73us/step - loss: 1.7773e-05 - acc: 2.0000e-05\n",
      "Epoch 8/10\n",
      "50001/50001 [==============================] - 4s 76us/step - loss: 1.7316e-05 - acc: 2.0000e-05\n",
      "Epoch 9/10\n",
      "50001/50001 [==============================] - 4s 76us/step - loss: 1.7059e-05 - acc: 2.0000e-05\n",
      "Epoch 10/10\n",
      "50001/50001 [==============================] - 4s 74us/step - loss: 1.7734e-05 - acc: 2.0000e-05\n"
     ]
    },
    {
     "data": {
      "text/plain": [
       "<keras.callbacks.History at 0x7fb2112c4950>"
      ]
     },
     "execution_count": 19,
     "metadata": {},
     "output_type": "execute_result"
    }
   ],
   "source": [
    "model2.fit(x_train, y_train, epochs=10, batch_size=50)"
   ]
  },
  {
   "cell_type": "code",
   "execution_count": 20,
   "metadata": {},
   "outputs": [],
   "source": [
    "(number_evaluation_data, _) = df_eval.shape\n",
    "q_tmp = df_eval.j7.values.reshape(number_evaluation_data,1)\n",
    "T_tmp = df_eval.e7.values.reshape(number_evaluation_data,1)\n",
    "qd_tmp = df_eval.jd7\n",
    "x_eval = np.concatenate([q_tmp, T_tmp], axis =1)\n",
    "y_eval = qd_tmp.values.reshape(number_evaluation_data,1)"
   ]
  },
  {
   "cell_type": "code",
   "execution_count": 21,
   "metadata": {},
   "outputs": [
    {
     "name": "stdout",
     "output_type": "stream",
     "text": [
      "10001/10001 [==============================] - 0s 50us/step\n"
     ]
    },
    {
     "data": {
      "text/plain": [
       "[5.409905237837468e-05, 9.998999876494932e-05]"
      ]
     },
     "execution_count": 21,
     "metadata": {},
     "output_type": "execute_result"
    }
   ],
   "source": [
    "model2.evaluate(x_eval, y_eval, batch_size=50)"
   ]
  },
  {
   "cell_type": "code",
   "execution_count": 22,
   "metadata": {},
   "outputs": [],
   "source": [
    "(number_validation_data, _) = df_val.shape\n",
    "q_tmp = df_val.j7.values.reshape(number_validation_data,1)\n",
    "T_tmp = df_val.e7.values.reshape(number_validation_data,1)\n",
    "qd_tmp = df_val.jd7\n",
    "x_val = np.concatenate([q_tmp, T_tmp], axis =1)\n",
    "y_val = qd_tmp.values.reshape(number_validation_data,1)"
   ]
  },
  {
   "cell_type": "code",
   "execution_count": 23,
   "metadata": {},
   "outputs": [],
   "source": [
    "y2_pred = model2.predict(x_val)"
   ]
  },
  {
   "cell_type": "code",
   "execution_count": 24,
   "metadata": {},
   "outputs": [],
   "source": [
    "df_val['y2_pred'] = y2_pred"
   ]
  },
  {
   "cell_type": "code",
   "execution_count": 31,
   "metadata": {},
   "outputs": [
    {
     "ename": "KeyError",
     "evalue": "'y2_pred'",
     "output_type": "error",
     "traceback": [
      "\u001b[0;31m---------------------------------------------------------------------------\u001b[0m",
      "\u001b[0;31mKeyError\u001b[0m                                  Traceback (most recent call last)",
      "\u001b[0;32m<ipython-input-31-35dd60f2416b>\u001b[0m in \u001b[0;36m<module>\u001b[0;34m()\u001b[0m\n\u001b[1;32m      1\u001b[0m \u001b[0mfig7\u001b[0m \u001b[0;34m=\u001b[0m \u001b[0mplt\u001b[0m\u001b[0;34m.\u001b[0m\u001b[0mfigure\u001b[0m\u001b[0;34m(\u001b[0m\u001b[0;34m)\u001b[0m\u001b[0;34m;\u001b[0m \u001b[0mdf_val\u001b[0m\u001b[0;34m[\u001b[0m\u001b[0;36m400\u001b[0m\u001b[0;34m:\u001b[0m\u001b[0;36m3000\u001b[0m\u001b[0;34m]\u001b[0m\u001b[0;34m.\u001b[0m\u001b[0mplot\u001b[0m\u001b[0;34m(\u001b[0m\u001b[0mx\u001b[0m \u001b[0;34m=\u001b[0m \u001b[0;34m'e7'\u001b[0m\u001b[0;34m,\u001b[0m \u001b[0my\u001b[0m \u001b[0;34m=\u001b[0m \u001b[0;34m'jd7'\u001b[0m\u001b[0;34m,\u001b[0m \u001b[0mmarker\u001b[0m\u001b[0;34m=\u001b[0m\u001b[0;34m'.'\u001b[0m\u001b[0;34m,\u001b[0m\u001b[0mlw\u001b[0m\u001b[0;34m=\u001b[0m\u001b[0;36m0.05\u001b[0m\u001b[0;34m)\u001b[0m\u001b[0;34m\u001b[0m\u001b[0m\n\u001b[0;32m----> 2\u001b[0;31m \u001b[0mdf_val\u001b[0m\u001b[0;34m[\u001b[0m\u001b[0;36m400\u001b[0m\u001b[0;34m:\u001b[0m\u001b[0;36m3000\u001b[0m\u001b[0;34m]\u001b[0m\u001b[0;34m.\u001b[0m\u001b[0mplot\u001b[0m\u001b[0;34m(\u001b[0m\u001b[0mx\u001b[0m \u001b[0;34m=\u001b[0m \u001b[0;34m'e7'\u001b[0m\u001b[0;34m,\u001b[0m \u001b[0my\u001b[0m \u001b[0;34m=\u001b[0m \u001b[0;34m'y2_pred'\u001b[0m\u001b[0;34m,\u001b[0m \u001b[0mmarker\u001b[0m\u001b[0;34m=\u001b[0m\u001b[0;34m'.'\u001b[0m\u001b[0;34m,\u001b[0m\u001b[0mlw\u001b[0m\u001b[0;34m=\u001b[0m\u001b[0;36m0.05\u001b[0m\u001b[0;34m)\u001b[0m\u001b[0;34m;\u001b[0m \u001b[0mplt\u001b[0m\u001b[0;34m.\u001b[0m\u001b[0mlegend\u001b[0m\u001b[0;34m(\u001b[0m\u001b[0mloc\u001b[0m\u001b[0;34m=\u001b[0m\u001b[0;34m'best'\u001b[0m\u001b[0;34m)\u001b[0m\u001b[0;34m\u001b[0m\u001b[0m\n\u001b[0m",
      "\u001b[0;32m/usr/local/lib/python2.7/dist-packages/pandas/plotting/_core.pyc\u001b[0m in \u001b[0;36m__call__\u001b[0;34m(self, x, y, kind, ax, subplots, sharex, sharey, layout, figsize, use_index, title, grid, legend, style, logx, logy, loglog, xticks, yticks, xlim, ylim, rot, fontsize, colormap, table, yerr, xerr, secondary_y, sort_columns, **kwds)\u001b[0m\n\u001b[1;32m   2939\u001b[0m                           \u001b[0mfontsize\u001b[0m\u001b[0;34m=\u001b[0m\u001b[0mfontsize\u001b[0m\u001b[0;34m,\u001b[0m \u001b[0mcolormap\u001b[0m\u001b[0;34m=\u001b[0m\u001b[0mcolormap\u001b[0m\u001b[0;34m,\u001b[0m \u001b[0mtable\u001b[0m\u001b[0;34m=\u001b[0m\u001b[0mtable\u001b[0m\u001b[0;34m,\u001b[0m\u001b[0;34m\u001b[0m\u001b[0m\n\u001b[1;32m   2940\u001b[0m                           \u001b[0myerr\u001b[0m\u001b[0;34m=\u001b[0m\u001b[0myerr\u001b[0m\u001b[0;34m,\u001b[0m \u001b[0mxerr\u001b[0m\u001b[0;34m=\u001b[0m\u001b[0mxerr\u001b[0m\u001b[0;34m,\u001b[0m \u001b[0msecondary_y\u001b[0m\u001b[0;34m=\u001b[0m\u001b[0msecondary_y\u001b[0m\u001b[0;34m,\u001b[0m\u001b[0;34m\u001b[0m\u001b[0m\n\u001b[0;32m-> 2941\u001b[0;31m                           sort_columns=sort_columns, **kwds)\n\u001b[0m\u001b[1;32m   2942\u001b[0m     \u001b[0m__call__\u001b[0m\u001b[0;34m.\u001b[0m\u001b[0m__doc__\u001b[0m \u001b[0;34m=\u001b[0m \u001b[0mplot_frame\u001b[0m\u001b[0;34m.\u001b[0m\u001b[0m__doc__\u001b[0m\u001b[0;34m\u001b[0m\u001b[0m\n\u001b[1;32m   2943\u001b[0m \u001b[0;34m\u001b[0m\u001b[0m\n",
      "\u001b[0;32m/usr/local/lib/python2.7/dist-packages/pandas/plotting/_core.pyc\u001b[0m in \u001b[0;36mplot_frame\u001b[0;34m(data, x, y, kind, ax, subplots, sharex, sharey, layout, figsize, use_index, title, grid, legend, style, logx, logy, loglog, xticks, yticks, xlim, ylim, rot, fontsize, colormap, table, yerr, xerr, secondary_y, sort_columns, **kwds)\u001b[0m\n\u001b[1;32m   1975\u001b[0m                  \u001b[0myerr\u001b[0m\u001b[0;34m=\u001b[0m\u001b[0myerr\u001b[0m\u001b[0;34m,\u001b[0m \u001b[0mxerr\u001b[0m\u001b[0;34m=\u001b[0m\u001b[0mxerr\u001b[0m\u001b[0;34m,\u001b[0m\u001b[0;34m\u001b[0m\u001b[0m\n\u001b[1;32m   1976\u001b[0m                  \u001b[0msecondary_y\u001b[0m\u001b[0;34m=\u001b[0m\u001b[0msecondary_y\u001b[0m\u001b[0;34m,\u001b[0m \u001b[0msort_columns\u001b[0m\u001b[0;34m=\u001b[0m\u001b[0msort_columns\u001b[0m\u001b[0;34m,\u001b[0m\u001b[0;34m\u001b[0m\u001b[0m\n\u001b[0;32m-> 1977\u001b[0;31m                  **kwds)\n\u001b[0m\u001b[1;32m   1978\u001b[0m \u001b[0;34m\u001b[0m\u001b[0m\n\u001b[1;32m   1979\u001b[0m \u001b[0;34m\u001b[0m\u001b[0m\n",
      "\u001b[0;32m/usr/local/lib/python2.7/dist-packages/pandas/plotting/_core.pyc\u001b[0m in \u001b[0;36m_plot\u001b[0;34m(data, x, y, subplots, ax, kind, **kwds)\u001b[0m\n\u001b[1;32m   1786\u001b[0m \u001b[0;34m\u001b[0m\u001b[0m\n\u001b[1;32m   1787\u001b[0m                 \u001b[0;31m# don't overwrite\u001b[0m\u001b[0;34m\u001b[0m\u001b[0;34m\u001b[0m\u001b[0m\n\u001b[0;32m-> 1788\u001b[0;31m                 \u001b[0mdata\u001b[0m \u001b[0;34m=\u001b[0m \u001b[0mdata\u001b[0m\u001b[0;34m[\u001b[0m\u001b[0my\u001b[0m\u001b[0;34m]\u001b[0m\u001b[0;34m.\u001b[0m\u001b[0mcopy\u001b[0m\u001b[0;34m(\u001b[0m\u001b[0;34m)\u001b[0m\u001b[0;34m\u001b[0m\u001b[0m\n\u001b[0m\u001b[1;32m   1789\u001b[0m \u001b[0;34m\u001b[0m\u001b[0m\n\u001b[1;32m   1790\u001b[0m                 \u001b[0;32mif\u001b[0m \u001b[0misinstance\u001b[0m\u001b[0;34m(\u001b[0m\u001b[0mdata\u001b[0m\u001b[0;34m,\u001b[0m \u001b[0mABCSeries\u001b[0m\u001b[0;34m)\u001b[0m\u001b[0;34m:\u001b[0m\u001b[0;34m\u001b[0m\u001b[0m\n",
      "\u001b[0;32m/usr/local/lib/python2.7/dist-packages/pandas/core/frame.pyc\u001b[0m in \u001b[0;36m__getitem__\u001b[0;34m(self, key)\u001b[0m\n\u001b[1;32m   2683\u001b[0m             \u001b[0;32mreturn\u001b[0m \u001b[0mself\u001b[0m\u001b[0;34m.\u001b[0m\u001b[0m_getitem_multilevel\u001b[0m\u001b[0;34m(\u001b[0m\u001b[0mkey\u001b[0m\u001b[0;34m)\u001b[0m\u001b[0;34m\u001b[0m\u001b[0m\n\u001b[1;32m   2684\u001b[0m         \u001b[0;32melse\u001b[0m\u001b[0;34m:\u001b[0m\u001b[0;34m\u001b[0m\u001b[0m\n\u001b[0;32m-> 2685\u001b[0;31m             \u001b[0;32mreturn\u001b[0m \u001b[0mself\u001b[0m\u001b[0;34m.\u001b[0m\u001b[0m_getitem_column\u001b[0m\u001b[0;34m(\u001b[0m\u001b[0mkey\u001b[0m\u001b[0;34m)\u001b[0m\u001b[0;34m\u001b[0m\u001b[0m\n\u001b[0m\u001b[1;32m   2686\u001b[0m \u001b[0;34m\u001b[0m\u001b[0m\n\u001b[1;32m   2687\u001b[0m     \u001b[0;32mdef\u001b[0m \u001b[0m_getitem_column\u001b[0m\u001b[0;34m(\u001b[0m\u001b[0mself\u001b[0m\u001b[0;34m,\u001b[0m \u001b[0mkey\u001b[0m\u001b[0;34m)\u001b[0m\u001b[0;34m:\u001b[0m\u001b[0;34m\u001b[0m\u001b[0m\n",
      "\u001b[0;32m/usr/local/lib/python2.7/dist-packages/pandas/core/frame.pyc\u001b[0m in \u001b[0;36m_getitem_column\u001b[0;34m(self, key)\u001b[0m\n\u001b[1;32m   2690\u001b[0m         \u001b[0;31m# get column\u001b[0m\u001b[0;34m\u001b[0m\u001b[0;34m\u001b[0m\u001b[0m\n\u001b[1;32m   2691\u001b[0m         \u001b[0;32mif\u001b[0m \u001b[0mself\u001b[0m\u001b[0;34m.\u001b[0m\u001b[0mcolumns\u001b[0m\u001b[0;34m.\u001b[0m\u001b[0mis_unique\u001b[0m\u001b[0;34m:\u001b[0m\u001b[0;34m\u001b[0m\u001b[0m\n\u001b[0;32m-> 2692\u001b[0;31m             \u001b[0;32mreturn\u001b[0m \u001b[0mself\u001b[0m\u001b[0;34m.\u001b[0m\u001b[0m_get_item_cache\u001b[0m\u001b[0;34m(\u001b[0m\u001b[0mkey\u001b[0m\u001b[0;34m)\u001b[0m\u001b[0;34m\u001b[0m\u001b[0m\n\u001b[0m\u001b[1;32m   2693\u001b[0m \u001b[0;34m\u001b[0m\u001b[0m\n\u001b[1;32m   2694\u001b[0m         \u001b[0;31m# duplicate columns & possible reduce dimensionality\u001b[0m\u001b[0;34m\u001b[0m\u001b[0;34m\u001b[0m\u001b[0m\n",
      "\u001b[0;32m/usr/local/lib/python2.7/dist-packages/pandas/core/generic.pyc\u001b[0m in \u001b[0;36m_get_item_cache\u001b[0;34m(self, item)\u001b[0m\n\u001b[1;32m   2484\u001b[0m         \u001b[0mres\u001b[0m \u001b[0;34m=\u001b[0m \u001b[0mcache\u001b[0m\u001b[0;34m.\u001b[0m\u001b[0mget\u001b[0m\u001b[0;34m(\u001b[0m\u001b[0mitem\u001b[0m\u001b[0;34m)\u001b[0m\u001b[0;34m\u001b[0m\u001b[0m\n\u001b[1;32m   2485\u001b[0m         \u001b[0;32mif\u001b[0m \u001b[0mres\u001b[0m \u001b[0;32mis\u001b[0m \u001b[0mNone\u001b[0m\u001b[0;34m:\u001b[0m\u001b[0;34m\u001b[0m\u001b[0m\n\u001b[0;32m-> 2486\u001b[0;31m             \u001b[0mvalues\u001b[0m \u001b[0;34m=\u001b[0m \u001b[0mself\u001b[0m\u001b[0;34m.\u001b[0m\u001b[0m_data\u001b[0m\u001b[0;34m.\u001b[0m\u001b[0mget\u001b[0m\u001b[0;34m(\u001b[0m\u001b[0mitem\u001b[0m\u001b[0;34m)\u001b[0m\u001b[0;34m\u001b[0m\u001b[0m\n\u001b[0m\u001b[1;32m   2487\u001b[0m             \u001b[0mres\u001b[0m \u001b[0;34m=\u001b[0m \u001b[0mself\u001b[0m\u001b[0;34m.\u001b[0m\u001b[0m_box_item_values\u001b[0m\u001b[0;34m(\u001b[0m\u001b[0mitem\u001b[0m\u001b[0;34m,\u001b[0m \u001b[0mvalues\u001b[0m\u001b[0;34m)\u001b[0m\u001b[0;34m\u001b[0m\u001b[0m\n\u001b[1;32m   2488\u001b[0m             \u001b[0mcache\u001b[0m\u001b[0;34m[\u001b[0m\u001b[0mitem\u001b[0m\u001b[0;34m]\u001b[0m \u001b[0;34m=\u001b[0m \u001b[0mres\u001b[0m\u001b[0;34m\u001b[0m\u001b[0m\n",
      "\u001b[0;32m/usr/local/lib/python2.7/dist-packages/pandas/core/internals.pyc\u001b[0m in \u001b[0;36mget\u001b[0;34m(self, item, fastpath)\u001b[0m\n\u001b[1;32m   4113\u001b[0m \u001b[0;34m\u001b[0m\u001b[0m\n\u001b[1;32m   4114\u001b[0m             \u001b[0;32mif\u001b[0m \u001b[0;32mnot\u001b[0m \u001b[0misna\u001b[0m\u001b[0;34m(\u001b[0m\u001b[0mitem\u001b[0m\u001b[0;34m)\u001b[0m\u001b[0;34m:\u001b[0m\u001b[0;34m\u001b[0m\u001b[0m\n\u001b[0;32m-> 4115\u001b[0;31m                 \u001b[0mloc\u001b[0m \u001b[0;34m=\u001b[0m \u001b[0mself\u001b[0m\u001b[0;34m.\u001b[0m\u001b[0mitems\u001b[0m\u001b[0;34m.\u001b[0m\u001b[0mget_loc\u001b[0m\u001b[0;34m(\u001b[0m\u001b[0mitem\u001b[0m\u001b[0;34m)\u001b[0m\u001b[0;34m\u001b[0m\u001b[0m\n\u001b[0m\u001b[1;32m   4116\u001b[0m             \u001b[0;32melse\u001b[0m\u001b[0;34m:\u001b[0m\u001b[0;34m\u001b[0m\u001b[0m\n\u001b[1;32m   4117\u001b[0m                 \u001b[0mindexer\u001b[0m \u001b[0;34m=\u001b[0m \u001b[0mnp\u001b[0m\u001b[0;34m.\u001b[0m\u001b[0marange\u001b[0m\u001b[0;34m(\u001b[0m\u001b[0mlen\u001b[0m\u001b[0;34m(\u001b[0m\u001b[0mself\u001b[0m\u001b[0;34m.\u001b[0m\u001b[0mitems\u001b[0m\u001b[0;34m)\u001b[0m\u001b[0;34m)\u001b[0m\u001b[0;34m[\u001b[0m\u001b[0misna\u001b[0m\u001b[0;34m(\u001b[0m\u001b[0mself\u001b[0m\u001b[0;34m.\u001b[0m\u001b[0mitems\u001b[0m\u001b[0;34m)\u001b[0m\u001b[0;34m]\u001b[0m\u001b[0;34m\u001b[0m\u001b[0m\n",
      "\u001b[0;32m/usr/local/lib/python2.7/dist-packages/pandas/core/indexes/base.pyc\u001b[0m in \u001b[0;36mget_loc\u001b[0;34m(self, key, method, tolerance)\u001b[0m\n\u001b[1;32m   3063\u001b[0m                 \u001b[0;32mreturn\u001b[0m \u001b[0mself\u001b[0m\u001b[0;34m.\u001b[0m\u001b[0m_engine\u001b[0m\u001b[0;34m.\u001b[0m\u001b[0mget_loc\u001b[0m\u001b[0;34m(\u001b[0m\u001b[0mkey\u001b[0m\u001b[0;34m)\u001b[0m\u001b[0;34m\u001b[0m\u001b[0m\n\u001b[1;32m   3064\u001b[0m             \u001b[0;32mexcept\u001b[0m \u001b[0mKeyError\u001b[0m\u001b[0;34m:\u001b[0m\u001b[0;34m\u001b[0m\u001b[0m\n\u001b[0;32m-> 3065\u001b[0;31m                 \u001b[0;32mreturn\u001b[0m \u001b[0mself\u001b[0m\u001b[0;34m.\u001b[0m\u001b[0m_engine\u001b[0m\u001b[0;34m.\u001b[0m\u001b[0mget_loc\u001b[0m\u001b[0;34m(\u001b[0m\u001b[0mself\u001b[0m\u001b[0;34m.\u001b[0m\u001b[0m_maybe_cast_indexer\u001b[0m\u001b[0;34m(\u001b[0m\u001b[0mkey\u001b[0m\u001b[0;34m)\u001b[0m\u001b[0;34m)\u001b[0m\u001b[0;34m\u001b[0m\u001b[0m\n\u001b[0m\u001b[1;32m   3066\u001b[0m \u001b[0;34m\u001b[0m\u001b[0m\n\u001b[1;32m   3067\u001b[0m         \u001b[0mindexer\u001b[0m \u001b[0;34m=\u001b[0m \u001b[0mself\u001b[0m\u001b[0;34m.\u001b[0m\u001b[0mget_indexer\u001b[0m\u001b[0;34m(\u001b[0m\u001b[0;34m[\u001b[0m\u001b[0mkey\u001b[0m\u001b[0;34m]\u001b[0m\u001b[0;34m,\u001b[0m \u001b[0mmethod\u001b[0m\u001b[0;34m=\u001b[0m\u001b[0mmethod\u001b[0m\u001b[0;34m,\u001b[0m \u001b[0mtolerance\u001b[0m\u001b[0;34m=\u001b[0m\u001b[0mtolerance\u001b[0m\u001b[0;34m)\u001b[0m\u001b[0;34m\u001b[0m\u001b[0m\n",
      "\u001b[0;32mpandas/_libs/index.pyx\u001b[0m in \u001b[0;36mpandas._libs.index.IndexEngine.get_loc\u001b[0;34m()\u001b[0m\n",
      "\u001b[0;32mpandas/_libs/index.pyx\u001b[0m in \u001b[0;36mpandas._libs.index.IndexEngine.get_loc\u001b[0;34m()\u001b[0m\n",
      "\u001b[0;32mpandas/_libs/hashtable_class_helper.pxi\u001b[0m in \u001b[0;36mpandas._libs.hashtable.PyObjectHashTable.get_item\u001b[0;34m()\u001b[0m\n",
      "\u001b[0;32mpandas/_libs/hashtable_class_helper.pxi\u001b[0m in \u001b[0;36mpandas._libs.hashtable.PyObjectHashTable.get_item\u001b[0;34m()\u001b[0m\n",
      "\u001b[0;31mKeyError\u001b[0m: 'y2_pred'"
     ]
    },
    {
     "data": {
      "text/plain": [
       "<Figure size 432x288 with 0 Axes>"
      ]
     },
     "metadata": {},
     "output_type": "display_data"
    },
    {
     "data": {
      "image/png": "[encoded data removed]",
      "text/plain": [
       "<Figure size 432x288 with 1 Axes>"
      ]
     },
     "metadata": {},
     "output_type": "display_data"
    }
   ],
   "source": [
    "fig7 = plt.figure(); df_val[400:3000].plot(x = 'e7', y = 'jd7', marker='.',lw=0.05)\n",
    "df_val[400:3000].plot(x = 'e7', y = 'y2_pred', marker='.',lw=0.05); plt.legend(loc='best')"
   ]
  },
  {
   "cell_type": "code",
   "execution_count": 27,
   "metadata": {},
   "outputs": [
    {
     "data": {
      "text/plain": [
       "<matplotlib.legend.Legend at 0x7fb20c0be710>"
      ]
     },
     "execution_count": 27,
     "metadata": {},
     "output_type": "execute_result"
    },
    {
     "data": {
      "text/plain": [
       "<Figure size 432x288 with 0 Axes>"
      ]
     },
     "metadata": {},
     "output_type": "display_data"
    },
    {
     "data": {
      "image/png": "[encoded data removed]",
      "text/plain": [
       "<Figure size 432x288 with 1 Axes>"
      ]
     },
     "metadata": {},
     "output_type": "display_data"
    },
    {
     "data": {
      "image/png": "[encoded data removed]",
      "text/plain": [
       "<Figure size 432x288 with 1 Axes>"
      ]
     },
     "metadata": {},
     "output_type": "display_data"
    }
   ],
   "source": [
    "fig8 = plt.figure(); df_val[0:500].plot(x = 'j7', y = 'jd7', marker='.',lw=0.05)\n",
    "df_val[0:500].plot(x = 'j7', y = 'y2_pred', marker='.',lw=0.05); plt.legend(loc='best')"
   ]
  },
  {
   "cell_type": "markdown",
   "metadata": {},
   "source": [
    "### Neuronas  con función de activación tanh\n",
    "Se utiliza un modelo de 1 input layer de 20 neuronas lineales, 2 hidden layers de 20 neuronas tanh y 1 output layer de 2 neuronas lineales.  "
   ]
  },
  {
   "cell_type": "code",
   "execution_count": 28,
   "metadata": {},
   "outputs": [],
   "source": [
    "model3 = Sequential()\n",
    "model3.add(Dense(units=20, activation='linear', input_dim=2))\n",
    "model3.add(Dense(units=20, activation='tanh'))\n",
    "model3.add(Dense(units=20, activation='tanh'))\n",
    "model3.add(Dense(units=1, activation='linear'))\n",
    "\n",
    "model3.compile(loss='mean_squared_error',\n",
    "              optimizer='Adam',\n",
    "              metrics=['accuracy'])\n",
    "\n",
    "(number_training_data, _) = df.shape\n",
    "q_tmp = df.j7.values.reshape(number_training_data,1)\n",
    "T_tmp = df.e7.values.reshape(number_training_data,1)\n",
    "qd_tmp = df.jd7\n",
    "x_train = np.concatenate([q_tmp, T_tmp], axis =1)\n",
    "y_train = qd_tmp.values.reshape(number_training_data,1)\n",
    "#print x_train.shape"
   ]
  },
  {
   "cell_type": "code",
   "execution_count": 29,
   "metadata": {},
   "outputs": [
    {
     "name": "stdout",
     "output_type": "stream",
     "text": [
      "Epoch 1/10\n",
      "50001/50001 [==============================] - 5s 95us/step - loss: 2.8819e-04 - acc: 2.0000e-05\n",
      "Epoch 2/10\n",
      "50001/50001 [==============================] - 4s 88us/step - loss: 1.3268e-05 - acc: 2.0000e-05\n",
      "Epoch 3/10\n",
      "50001/50001 [==============================] - 4s 83us/step - loss: 1.3604e-05 - acc: 2.0000e-05\n",
      "Epoch 4/10\n",
      "50001/50001 [==============================] - 5s 92us/step - loss: 1.4294e-05 - acc: 2.0000e-05\n",
      "Epoch 5/10\n",
      "50001/50001 [==============================] - 5s 93us/step - loss: 1.4052e-05 - acc: 2.0000e-05\n",
      "Epoch 6/10\n",
      "50001/50001 [==============================] - 4s 87us/step - loss: 1.4676e-05 - acc: 2.0000e-05\n",
      "Epoch 7/10\n",
      "50001/50001 [==============================] - 5s 90us/step - loss: 1.4271e-05 - acc: 2.0000e-05\n",
      "Epoch 8/10\n",
      "50001/50001 [==============================] - 4s 88us/step - loss: 1.4547e-05 - acc: 2.0000e-05\n",
      "Epoch 9/10\n",
      "50001/50001 [==============================] - 5s 90us/step - loss: 1.4136e-05 - acc: 2.0000e-05\n",
      "Epoch 10/10\n",
      "50001/50001 [==============================] - 4s 87us/step - loss: 1.4468e-05 - acc: 2.0000e-05\n"
     ]
    },
    {
     "data": {
      "text/plain": [
       "<keras.callbacks.History at 0x7fb20d9a0c10>"
      ]
     },
     "execution_count": 29,
     "metadata": {},
     "output_type": "execute_result"
    }
   ],
   "source": [
    "model3.fit(x_train, y_train, epochs=10, batch_size=50)"
   ]
  },
  {
   "cell_type": "code",
   "execution_count": 30,
   "metadata": {},
   "outputs": [
    {
     "name": "stdout",
     "output_type": "stream",
     "text": [
      "10001/10001 [==============================] - 0s 44us/step\n"
     ]
    },
    {
     "data": {
      "text/plain": [
       "[0.00017780011091296104, 9.998999876494932e-05]"
      ]
     },
     "execution_count": 30,
     "metadata": {},
     "output_type": "execute_result"
    }
   ],
   "source": [
    "model3.evaluate(x_eval, y_eval, batch_size=50)"
   ]
  },
  {
   "cell_type": "code",
   "execution_count": 31,
   "metadata": {},
   "outputs": [
    {
     "data": {
      "text/plain": [
       "<matplotlib.legend.Legend at 0x7fb1e7c2a590>"
      ]
     },
     "execution_count": 31,
     "metadata": {},
     "output_type": "execute_result"
    },
    {
     "data": {
      "text/plain": [
       "<Figure size 432x288 with 0 Axes>"
      ]
     },
     "metadata": {},
     "output_type": "display_data"
    },
    {
     "data": {
      "image/png": "[encoded data removed]",
      "text/plain": [
       "<Figure size 432x288 with 1 Axes>"
      ]
     },
     "metadata": {},
     "output_type": "display_data"
    },
    {
     "data": {
      "image/png": "[encoded data removed]",
      "text/plain": [
       "<Figure size 432x288 with 1 Axes>"
      ]
     },
     "metadata": {},
     "output_type": "display_data"
    }
   ],
   "source": [
    "y3_pred = model3.predict(x_val)\n",
    "df_val['y3_pred'] = y3_pred\n",
    "fig9 = plt.figure(); df_val[0:200].plot(x = 'e7', y = 'jd7', marker='.',lw=0.05)\n",
    "df_val[0:200].plot(x = 'e7', y = 'y3_pred', marker='.',lw=0.05); plt.legend(loc='best')"
   ]
  },
  {
   "cell_type": "code",
   "execution_count": 35,
   "metadata": {},
   "outputs": [
    {
     "data": {
      "text/plain": [
       "<matplotlib.legend.Legend at 0x7fb20420e110>"
      ]
     },
     "execution_count": 35,
     "metadata": {},
     "output_type": "execute_result"
    },
    {
     "data": {
      "text/plain": [
       "<Figure size 432x288 with 0 Axes>"
      ]
     },
     "metadata": {},
     "output_type": "display_data"
    },
    {
     "data": {
      "image/png": "[encoded data removed]",
      "text/plain": [
       "<Figure size 432x288 with 1 Axes>"
      ]
     },
     "metadata": {},
     "output_type": "display_data"
    },
    {
     "data": {
      "image/png": "[encoded data removed]",
      "text/plain": [
       "<Figure size 432x288 with 1 Axes>"
      ]
     },
     "metadata": {},
     "output_type": "display_data"
    }
   ],
   "source": [
    "fig10 = plt.figure(); df_val[0:500].plot(x = 'j7', y = 'jd7', marker='.',lw=0.05)\n",
    "df_val[0:500].plot(x = 'j7', y = 'y3_pred', marker='.',lw=0.05); plt.legend(loc='best')"
   ]
  },
  {
   "cell_type": "markdown",
   "metadata": {},
   "source": [
    "### Neuronas  con función de activación elu (model 4)\n",
    "Se utiliza un modelo de 1 input layer de 20 neuronas lineales, 2 hidden layers de 20 neuronas elu y 1 output layer de 2 neuronas lineales.  "
   ]
  },
  {
   "cell_type": "code",
   "execution_count": 36,
   "metadata": {},
   "outputs": [],
   "source": [
    "model4 = Sequential()\n",
    "model4.add(Dense(units=20, activation='linear', input_dim=2))\n",
    "model4.add(Dense(units=20, activation='elu'))\n",
    "model4.add(Dense(units=20, activation='elu'))\n",
    "model4.add(Dense(units=1, activation='linear'))\n",
    "\n",
    "model4.compile(loss='mean_squared_error',\n",
    "              optimizer='Adam',\n",
    "              metrics=['accuracy'])"
   ]
  },
  {
   "cell_type": "code",
   "execution_count": 37,
   "metadata": {},
   "outputs": [
    {
     "name": "stdout",
     "output_type": "stream",
     "text": [
      "Epoch 1/10\n",
      "50001/50001 [==============================] - 4s 75us/step - loss: 1.5998e-04 - acc: 2.0000e-05\n",
      "Epoch 2/10\n",
      "50001/50001 [==============================] - 3s 69us/step - loss: 1.5754e-05 - acc: 2.0000e-05\n",
      "Epoch 3/10\n",
      "50001/50001 [==============================] - 3s 67us/step - loss: 1.5190e-05 - acc: 2.0000e-05\n",
      "Epoch 4/10\n",
      "50001/50001 [==============================] - 3s 66us/step - loss: 1.5352e-05 - acc: 2.0000e-05\n",
      "Epoch 5/10\n",
      "50001/50001 [==============================] - 3s 67us/step - loss: 1.4887e-05 - acc: 2.0000e-05\n",
      "Epoch 6/10\n",
      "50001/50001 [==============================] - 3s 67us/step - loss: 1.4812e-05 - acc: 2.0000e-05\n",
      "Epoch 7/10\n",
      "50001/50001 [==============================] - 3s 69us/step - loss: 1.4470e-05 - acc: 2.0000e-05\n",
      "Epoch 8/10\n",
      "50001/50001 [==============================] - 3s 70us/step - loss: 1.3959e-05 - acc: 2.0000e-05\n",
      "Epoch 9/10\n",
      "50001/50001 [==============================] - 3s 70us/step - loss: 1.4177e-05 - acc: 2.0000e-05\n",
      "Epoch 10/10\n",
      "50001/50001 [==============================] - 3s 70us/step - loss: 1.3617e-05 - acc: 2.0000e-05\n"
     ]
    },
    {
     "data": {
      "text/plain": [
       "<keras.callbacks.History at 0x7fb1e7ced090>"
      ]
     },
     "execution_count": 37,
     "metadata": {},
     "output_type": "execute_result"
    }
   ],
   "source": [
    "model4.fit(x_train, y_train, epochs=10, batch_size=50)"
   ]
  },
  {
   "cell_type": "code",
   "execution_count": 38,
   "metadata": {},
   "outputs": [
    {
     "name": "stdout",
     "output_type": "stream",
     "text": [
      "10001/10001 [==============================] - 0s 50us/step\n"
     ]
    },
    {
     "data": {
      "text/plain": [
       "[3.3041127614063134e-05, 9.998999876494932e-05]"
      ]
     },
     "execution_count": 38,
     "metadata": {},
     "output_type": "execute_result"
    }
   ],
   "source": [
    "model4.evaluate(x_eval, y_eval, batch_size=50)"
   ]
  },
  {
   "cell_type": "code",
   "execution_count": 39,
   "metadata": {},
   "outputs": [
    {
     "data": {
      "text/plain": [
       "<matplotlib.legend.Legend at 0x7fb1e72dc490>"
      ]
     },
     "execution_count": 39,
     "metadata": {},
     "output_type": "execute_result"
    },
    {
     "data": {
      "text/plain": [
       "<Figure size 432x288 with 0 Axes>"
      ]
     },
     "metadata": {},
     "output_type": "display_data"
    },
    {
     "data": {
      "image/png": "[encoded data removed]",
      "text/plain": [
       "<Figure size 432x288 with 1 Axes>"
      ]
     },
     "metadata": {},
     "output_type": "display_data"
    },
    {
     "data": {
      "image/png": "[encoded data removed]",
      "text/plain": [
       "<Figure size 432x288 with 1 Axes>"
      ]
     },
     "metadata": {},
     "output_type": "display_data"
    }
   ],
   "source": [
    "y4_pred = model4.predict(x_val)\n",
    "df_val['y4_pred'] = y4_pred\n",
    "fig11 = plt.figure(); df_val[0:200].plot(x = 'e7', y = 'jd7', marker='.',lw=0.05)\n",
    "df_val[0:200].plot(x = 'e7', y = 'y4_pred', marker='.',lw=0.05); plt.legend(loc='best')"
   ]
  },
  {
   "cell_type": "code",
   "execution_count": 43,
   "metadata": {},
   "outputs": [
    {
     "data": {
      "text/plain": [
       "<matplotlib.legend.Legend at 0x7fb1e6e1dd50>"
      ]
     },
     "execution_count": 43,
     "metadata": {},
     "output_type": "execute_result"
    },
    {
     "data": {
      "text/plain": [
       "<Figure size 432x288 with 0 Axes>"
      ]
     },
     "metadata": {},
     "output_type": "display_data"
    },
    {
     "data": {
      "image/png": "[encoded data removed]",
      "text/plain": [
       "<Figure size 432x288 with 1 Axes>"
      ]
     },
     "metadata": {},
     "output_type": "display_data"
    },
    {
     "data": {
      "image/png": "[encoded data removed]",
      "text/plain": [
       "<Figure size 432x288 with 1 Axes>"
      ]
     },
     "metadata": {},
     "output_type": "display_data"
    }
   ],
   "source": [
    "fig12 = plt.figure(); df_val[500:1000].plot(x = 'j7', y = 'jd7', marker='.',lw=0.05)\n",
    "df_val[500:1000].plot(x = 'j7', y = 'y4_pred', marker='.',lw=0.05); plt.legend(loc='best')"
   ]
  },
  {
   "cell_type": "markdown",
   "metadata": {},
   "source": [
    "### Neuronas  con función de activación LeakyReLU (model 5)\n",
    "Se utiliza un modelo de 1 input layer de 20 neuronas lineales, 2 hidden layers de 20 neuronas LeakyReLU y 1 output layer de 2 neuronas lineales.  "
   ]
  },
  {
   "cell_type": "code",
   "execution_count": 41,
   "metadata": {},
   "outputs": [
    {
     "name": "stderr",
     "output_type": "stream",
     "text": [
      "/usr/local/lib/python2.7/dist-packages/keras/activations.py:197: UserWarning: Do not pass a layer instance (such as LeakyReLU) as the activation argument of another layer. Instead, advanced activation layers should be used just like any other layer in a model.\n",
      "  identifier=identifier.__class__.__name__))\n"
     ]
    }
   ],
   "source": [
    "model5 = Sequential()\n",
    "model5.add(Dense(units=20, activation='linear', input_dim=2))\n",
    "model5.add(Dense(units=20, activation=LeakyReLU(alpha=0.3)))\n",
    "model5.add(Dense(units=20, activation=LeakyReLU(alpha=0.3)))\n",
    "model5.add(Dense(units=1, activation='linear'))\n",
    "\n",
    "model5.compile(loss='mean_squared_error',\n",
    "              optimizer='Adam',\n",
    "              metrics=['accuracy'])"
   ]
  },
  {
   "cell_type": "code",
   "execution_count": 42,
   "metadata": {},
   "outputs": [
    {
     "name": "stdout",
     "output_type": "stream",
     "text": [
      "Epoch 1/10\n",
      "50001/50001 [==============================] - 4s 83us/step - loss: 6.9236e-04 - acc: 2.0000e-05\n",
      "Epoch 2/10\n",
      "50001/50001 [==============================] - 4s 73us/step - loss: 1.1412e-05 - acc: 2.0000e-05\n",
      "Epoch 3/10\n",
      "50001/50001 [==============================] - 4s 71us/step - loss: 1.0597e-05 - acc: 2.0000e-05\n",
      "Epoch 4/10\n",
      "50001/50001 [==============================] - 4s 73us/step - loss: 1.0698e-05 - acc: 2.0000e-05\n",
      "Epoch 5/10\n",
      "50001/50001 [==============================] - 4s 72us/step - loss: 1.1274e-05 - acc: 2.0000e-05\n",
      "Epoch 6/10\n",
      "50001/50001 [==============================] - 4s 72us/step - loss: 1.0566e-05 - acc: 2.0000e-05\n",
      "Epoch 7/10\n",
      "50001/50001 [==============================] - 4s 74us/step - loss: 1.1525e-05 - acc: 2.0000e-05\n",
      "Epoch 8/10\n",
      "50001/50001 [==============================] - 4s 71us/step - loss: 1.0558e-05 - acc: 2.0000e-05\n",
      "Epoch 9/10\n",
      "50001/50001 [==============================] - 4s 72us/step - loss: 1.0168e-05 - acc: 2.0000e-05\n",
      "Epoch 10/10\n",
      "50001/50001 [==============================] - 3s 70us/step - loss: 1.0008e-05 - acc: 2.0000e-05\n"
     ]
    },
    {
     "data": {
      "text/plain": [
       "<keras.callbacks.History at 0x7fb1e7257c10>"
      ]
     },
     "execution_count": 42,
     "metadata": {},
     "output_type": "execute_result"
    }
   ],
   "source": [
    "model5.fit(x_train, y_train, epochs=10, batch_size=50)"
   ]
  },
  {
   "cell_type": "code",
   "execution_count": 44,
   "metadata": {},
   "outputs": [
    {
     "name": "stdout",
     "output_type": "stream",
     "text": [
      "10001/10001 [==============================] - 1s 53us/step\n"
     ]
    },
    {
     "data": {
      "text/plain": [
       "[3.595215256979881e-05, 9.998999876494932e-05]"
      ]
     },
     "execution_count": 44,
     "metadata": {},
     "output_type": "execute_result"
    }
   ],
   "source": [
    "model5.evaluate(x_eval, y_eval, batch_size=50)"
   ]
  },
  {
   "cell_type": "code",
   "execution_count": 45,
   "metadata": {},
   "outputs": [
    {
     "data": {
      "text/plain": [
       "<matplotlib.legend.Legend at 0x7fb1e71952d0>"
      ]
     },
     "execution_count": 45,
     "metadata": {},
     "output_type": "execute_result"
    },
    {
     "data": {
      "text/plain": [
       "<Figure size 432x288 with 0 Axes>"
      ]
     },
     "metadata": {},
     "output_type": "display_data"
    },
    {
     "data": {
      "image/png": "[encoded data removed]",
      "text/plain": [
       "<Figure size 432x288 with 1 Axes>"
      ]
     },
     "metadata": {},
     "output_type": "display_data"
    },
    {
     "data": {
      "image/png": "[encoded data removed]",
      "text/plain": [
       "<Figure size 432x288 with 1 Axes>"
      ]
     },
     "metadata": {},
     "output_type": "display_data"
    }
   ],
   "source": [
    "y5_pred = model5.predict(x_val)\n",
    "df_val['y5_pred'] = y5_pred\n",
    "fig13 = plt.figure(); df_val[0:200].plot(x = 'e7', y = 'jd7', marker='.',lw=0.05)\n",
    "df_val[0:200].plot(x = 'e7', y = 'y5_pred', marker='.',lw=0.05); plt.legend(loc='best')"
   ]
  },
  {
   "cell_type": "code",
   "execution_count": 47,
   "metadata": {},
   "outputs": [
    {
     "data": {
      "text/plain": [
       "<matplotlib.legend.Legend at 0x7fb1e6c417d0>"
      ]
     },
     "execution_count": 47,
     "metadata": {},
     "output_type": "execute_result"
    },
    {
     "data": {
      "text/plain": [
       "<Figure size 432x288 with 0 Axes>"
      ]
     },
     "metadata": {},
     "output_type": "display_data"
    },
    {
     "data": {
      "image/png": "[encoded data removed]",
      "text/plain": [
       "<Figure size 432x288 with 1 Axes>"
      ]
     },
     "metadata": {},
     "output_type": "display_data"
    },
    {
     "data": {
      "image/png": "[encoded data removed]",
      "text/plain": [
       "<Figure size 432x288 with 1 Axes>"
      ]
     },
     "metadata": {},
     "output_type": "display_data"
    }
   ],
   "source": [
    "fig14 = plt.figure(); df_val[0:500].plot(x = 'j7', y = 'jd7', marker='.',lw=0.05)\n",
    "df_val[0:500].plot(x = 'j7', y = 'y5_pred', marker='.',lw=0.05); plt.legend(loc='best')"
   ]
  },
  {
   "cell_type": "code",
   "execution_count": 28,
   "metadata": {},
   "outputs": [],
   "source": [
    "from keras.models import Sequential, Model\n",
    "import keras\n",
    "\n",
    "from keras.layers import Dense, Activation, LSTM, Input\n",
    "inputs = Input(shape=(None, 2))\n",
    "first_lstm = LSTM(30, return_state=True)\n",
    "outputs, state_h1, state_c1 = first_lstm(inputs)\n",
    "# We discard `encoder_outputs` and only keep the states.\n",
    "#second_lstm = LSTM(30, return_state=True)\n",
    "#outputs, state_h2, state_c2 = second_lstm(outputs)\n",
    "dense_layer = Dense(1, activation='linear')\n",
    "outputs = dense_layer(outputs)\n",
    "\n",
    "model = Model(inputs, outputs)\n",
    "model.compile(loss='mean_squared_error',\n",
    "              optimizer='Adam',\n",
    "              metrics=['accuracy'])\n",
    "#model1.evaluate(x_eval, y_eval, batch_size=50)\n"
   ]
  },
  {
   "cell_type": "code",
   "execution_count": 31,
   "metadata": {},
   "outputs": [
    {
     "ename": "ValueError",
     "evalue": "cannot reshape array of size 50001 into shape (50001,2,1)",
     "output_type": "error",
     "traceback": [
      "\u001b[0;31m---------------------------------------------------------------------------\u001b[0m",
      "\u001b[0;31mValueError\u001b[0m                                Traceback (most recent call last)",
      "\u001b[0;32m<ipython-input-31-af91c0680b29>\u001b[0m in \u001b[0;36m<module>\u001b[0;34m()\u001b[0m\n\u001b[1;32m      1\u001b[0m \u001b[0mx_tmp\u001b[0m \u001b[0;34m=\u001b[0m \u001b[0mx_train\u001b[0m\u001b[0;34m.\u001b[0m\u001b[0mreshape\u001b[0m\u001b[0;34m(\u001b[0m\u001b[0;36m50001\u001b[0m\u001b[0;34m,\u001b[0m\u001b[0;36m2\u001b[0m\u001b[0;34m,\u001b[0m\u001b[0;36m1\u001b[0m\u001b[0;34m)\u001b[0m\u001b[0;34m\u001b[0m\u001b[0m\n\u001b[0;32m----> 2\u001b[0;31m \u001b[0my_tmp\u001b[0m \u001b[0;34m=\u001b[0m \u001b[0my_train\u001b[0m\u001b[0;34m.\u001b[0m\u001b[0mreshape\u001b[0m\u001b[0;34m(\u001b[0m\u001b[0;36m50001\u001b[0m\u001b[0;34m,\u001b[0m\u001b[0;36m2\u001b[0m\u001b[0;34m,\u001b[0m\u001b[0;36m1\u001b[0m\u001b[0;34m)\u001b[0m\u001b[0;34m\u001b[0m\u001b[0m\n\u001b[0m",
      "\u001b[0;31mValueError\u001b[0m: cannot reshape array of size 50001 into shape (50001,2,1)"
     ]
    }
   ],
   "source": [
    "x_tmp = x_train.reshape(50001,2,1)\n",
    "y_tmp = y_train.reshape(50001,2,1)"
   ]
  },
  {
   "cell_type": "code",
   "execution_count": 27,
   "metadata": {},
   "outputs": [
    {
     "ename": "ValueError",
     "evalue": "cannot reshape array of size 50001 into shape (50001,2,1)",
     "output_type": "error",
     "traceback": [
      "\u001b[0;31m---------------------------------------------------------------------------\u001b[0m",
      "\u001b[0;31mValueError\u001b[0m                                Traceback (most recent call last)",
      "\u001b[0;32m<ipython-input-27-fecb84beb206>\u001b[0m in \u001b[0;36m<module>\u001b[0;34m()\u001b[0m\n\u001b[0;32m----> 1\u001b[0;31m \u001b[0mmodel\u001b[0m\u001b[0;34m.\u001b[0m\u001b[0mfit\u001b[0m\u001b[0;34m(\u001b[0m\u001b[0mx_train\u001b[0m\u001b[0;34m.\u001b[0m\u001b[0mreshape\u001b[0m\u001b[0;34m(\u001b[0m\u001b[0;36m50001\u001b[0m\u001b[0;34m,\u001b[0m\u001b[0;36m2\u001b[0m\u001b[0;34m,\u001b[0m\u001b[0;36m1\u001b[0m\u001b[0;34m)\u001b[0m\u001b[0;34m,\u001b[0m \u001b[0my_train\u001b[0m\u001b[0;34m.\u001b[0m\u001b[0mreshape\u001b[0m\u001b[0;34m(\u001b[0m\u001b[0;36m50001\u001b[0m\u001b[0;34m,\u001b[0m\u001b[0;36m2\u001b[0m\u001b[0;34m,\u001b[0m\u001b[0;36m1\u001b[0m\u001b[0;34m)\u001b[0m\u001b[0;34m,\u001b[0m \u001b[0mepochs\u001b[0m\u001b[0;34m=\u001b[0m\u001b[0;36m10\u001b[0m\u001b[0;34m,\u001b[0m \u001b[0mbatch_size\u001b[0m\u001b[0;34m=\u001b[0m\u001b[0;36m50\u001b[0m\u001b[0;34m)\u001b[0m\u001b[0;34m\u001b[0m\u001b[0m\n\u001b[0m",
      "\u001b[0;31mValueError\u001b[0m: cannot reshape array of size 50001 into shape (50001,2,1)"
     ]
    }
   ],
   "source": [
    "model.fit(x_train.reshape(50001,2,1), y_train.reshape(50001,2,1), epochs=10, batch_size=50)"
   ]
  },
  {
   "cell_type": "code",
   "execution_count": 26,
   "metadata": {},
   "outputs": [
    {
     "data": {
      "text/plain": [
       "array([[[ 0.00000000e+00],\n",
       "        [ 0.00000000e+00]],\n",
       "\n",
       "       [[-2.10351562e-03],\n",
       "        [ 0.00000000e+00]],\n",
       "\n",
       "       [[-2.10351562e-03],\n",
       "        [ 5.20000000e-02]],\n",
       "\n",
       "       ...,\n",
       "\n",
       "       [[ 1.46682617e-01],\n",
       "        [-1.70000000e+00]],\n",
       "\n",
       "       [[ 1.42559570e-01],\n",
       "        [-2.28400000e+00]],\n",
       "\n",
       "       [[ 1.38745117e-01],\n",
       "        [-1.32800000e+00]]])"
      ]
     },
     "execution_count": 26,
     "metadata": {},
     "output_type": "execute_result"
    }
   ],
   "source": [
    "x_train.reshape(50001,2,1)"
   ]
  },
  {
   "cell_type": "code",
   "execution_count": null,
   "metadata": {},
   "outputs": [],
   "source": []
  }
 ],
 "metadata": {
  "kernelspec": {
   "display_name": "Python 2",
   "language": "python",
   "name": "python2"
  },
  "language_info": {
   "codemirror_mode": {
    "name": "ipython",
    "version": 2
   },
   "file_extension": ".py",
   "mimetype": "text/x-python",
   "name": "python",
   "nbconvert_exporter": "python",
   "pygments_lexer": "ipython2",
   "version": "2.7.12"
  }
 },
 "nbformat": 4,
 "nbformat_minor": 2
}
